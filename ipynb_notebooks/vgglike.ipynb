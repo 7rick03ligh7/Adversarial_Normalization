{
 "cells": [
  {
   "cell_type": "code",
   "execution_count": 56,
   "metadata": {},
   "outputs": [
    {
     "name": "stdout",
     "output_type": "stream",
     "text": [
      "tensor([[-4., -4., -4.],\n",
      "        [-4., -4., -4.]])\n"
     ]
    }
   ],
   "source": [
    "x = torch.ones(2, 3, requires_grad=True)\n",
    "a = torch.ones(3, 4)\n",
    "out = torch.mm(x,a)    # shape: (2,4)\n",
    "\n",
    "gradient = torch.zeros(2, 4)-1\n",
    "out.backward(gradient)\n",
    "print(x.grad)"
   ]
  },
  {
   "cell_type": "code",
   "execution_count": 65,
   "metadata": {},
   "outputs": [
    {
     "data": {
      "text/plain": [
       "tensor([[-0.5000, -0.5000, -0.5000],\n",
       "        [-0.5000, -0.5000, -0.5000]])"
      ]
     },
     "execution_count": 65,
     "metadata": {},
     "output_type": "execute_result"
    }
   ],
   "source": [
    "x = torch.ones(2, 3, requires_grad=True)\n",
    "a = torch.ones(3, 4)\n",
    "out = torch.mm(x,a)    # shape: (2,4)\n",
    "out = (out*(-1)).mean()\n",
    "out.backward()\n",
    "x.grad"
   ]
  },
  {
   "cell_type": "code",
   "execution_count": null,
   "metadata": {},
   "outputs": [],
   "source": []
  },
  {
   "cell_type": "code",
   "execution_count": null,
   "metadata": {},
   "outputs": [],
   "source": []
  },
  {
   "cell_type": "code",
   "execution_count": null,
   "metadata": {},
   "outputs": [],
   "source": []
  },
  {
   "cell_type": "code",
   "execution_count": null,
   "metadata": {},
   "outputs": [],
   "source": []
  },
  {
   "cell_type": "markdown",
   "metadata": {},
   "source": [
    "1. берем VGG-like сеть (всегда glorot инициализация или подобное);\n",
    "  - поседовательность фильтов - 2 n, 3 n, 4 n, 6 n, 8 n, 12 n, ...\n",
    "2. примерно находим n такое, что сеть без какой-либо регуляризации переобучается, но для n / 2 уже нет;\n",
    "  - т.е. найти примерно оптимальное n и взять ~1.5-2x больше.\n",
    "3. натренировать сети со всеми перечисленными методами;\n",
    "  - где это возможно, варьировать силу регуляризации (~5 точек);\n",
    "  - если это невозможно (e.g., batch norm), то варьровать n.\n",
    "4. Normalizations:\n",
    "  - BatchNorm\n",
    "  - SpatialLayerNorm\n",
    "  - LayerNorm\n",
    "  - AdversarialNorm\n",
    "  - WeightNorm\n",
    "  - Dropout?\n",
    "5. построить график на подобии README."
   ]
  },
  {
   "cell_type": "code",
   "execution_count": 1,
   "metadata": {},
   "outputs": [
    {
     "name": "stderr",
     "output_type": "stream",
     "text": [
      "c:\\users\\alexey\\appdata\\local\\programs\\python\\python37\\lib\\site-packages\\pytorch_lightning\\utilities\\distributed.py:25: UserWarning: Unsupported `ReduceOp` for distributed computing.\n",
      "  warnings.warn(*args, **kwargs)\n"
     ]
    }
   ],
   "source": [
    "import os\n",
    "import sys\n",
    "import random\n",
    "import shutil\n",
    "from collections import OrderedDict\n",
    "\n",
    "import pandas as pd\n",
    "import numpy as np\n",
    "import matplotlib.pyplot as plt\n",
    "%matplotlib inline\n",
    "import seaborn as sns\n",
    "\n",
    "import torch\n",
    "import torch.nn as nn\n",
    "import torch.nn.functional as F\n",
    "import torch.optim as optim\n",
    "from torch.utils.data import Dataset, DataLoader\n",
    "\n",
    "import torchvision\n",
    "import torchvision.transforms as transforms\n",
    "\n",
    "import pytorch_lightning as pl\n",
    "from pytorch_lightning import loggers as pl_loggers\n",
    "from pytorch_lightning import Trainer\n",
    "from pytorch_lightning.metrics.classification import confusion_matrix\n",
    "from pytorch_lightning.callbacks import ModelCheckpoint\n",
    "\n",
    "\n",
    "LOGDIR = 'logs'\n",
    "os.makedirs('./'+LOGDIR, exist_ok=True)"
   ]
  },
  {
   "cell_type": "code",
   "execution_count": null,
   "metadata": {},
   "outputs": [],
   "source": [
    "Trainer()"
   ]
  },
  {
   "cell_type": "code",
   "execution_count": 18,
   "metadata": {},
   "outputs": [
    {
     "name": "stdout",
     "output_type": "stream",
     "text": [
      "torch.Size([1, 64, 5, 7])\n",
      "torch.Size([1, 64, 1, 1])\n",
      "torch.Size([1, 64, 10, 7])\n"
     ]
    }
   ],
   "source": [
    "m = nn.AdaptiveAvgPool2d((5,7))\n",
    "input = torch.randn(1, 64, 8, 9)\n",
    "output = m(input)\n",
    "print(output.shape)\n",
    "# target output size of 7x7 (square)\n",
    "m = nn.AdaptiveMaxPool2d(1)\n",
    "input = torch.randn(1, 64, 10, 9)\n",
    "output = m(input)\n",
    "print(output.shape)\n",
    "# target output size of 10x7\n",
    "m = nn.AdaptiveAvgPool2d((None, 7))\n",
    "input = torch.randn(1, 64, 10, 9)\n",
    "output = m(input)\n",
    "print(output.shape)"
   ]
  },
  {
   "cell_type": "code",
   "execution_count": 5,
   "metadata": {},
   "outputs": [],
   "source": [
    "def _kl_div_2d(p, q):\n",
    "    # D_KL(P || Q)\n",
    "    batch, chans, height, width = p.shape\n",
    "    unsummed_kl = F.kl_div(\n",
    "        q.view(batch * chans, height * width).log(),\n",
    "        p.view(batch * chans, height * width),\n",
    "        reduction='none',\n",
    "    )\n",
    "    kl_values = unsummed_kl.sum(-1).view(batch, chans)\n",
    "    return kl_values\n",
    "\n",
    "\n",
    "def _js_div_2d(p, q):\n",
    "    # JSD(P || Q)\n",
    "    m = 0.5 * (p + q)\n",
    "    return 0.5 * _kl_div_2d(p, m) + 0.5 * _kl_div_2d(q, m)\n",
    "\n",
    "# TODO: add this to the main module\n",
    "\n",
    "\n",
    "def _reduce_loss(losses, reduction):\n",
    "    if reduction == 'none':\n",
    "        return losses\n",
    "    else:\n",
    "        return torch.mean(losses) if reduction == 'mean' else torch.sum(losses)\n",
    "\n",
    "\n",
    "def js_div_loss_2d(\n",
    "        input: torch.Tensor,\n",
    "        target: torch.Tensor,\n",
    "        reduction: str = 'mean'\n",
    "):\n",
    "    r\"\"\"Calculates the Jensen-Shannon divergence loss between heatmaps.\n",
    "\n",
    "    Arguments:\n",
    "        input (torch.Tensor): the input tensor.\n",
    "        target (torch.Tensor): the target tensor.\n",
    "        reduction (string, optional): Specifies the reduction to apply to the\n",
    "          output: ``'none'`` | ``'mean'`` | ``'sum'``. ``'none'``: no reduction\n",
    "          will be applied, ``'mean'``: the sum of the output will be divided by\n",
    "          the number of elements in the output, ``'sum'``: the output will be\n",
    "          summed. Default: ``'mean'``.\n",
    "\n",
    "    Shape:\n",
    "        - Input: :math:`(B, N, H, W)`\n",
    "        - Target: :math:`(B, N, H, W)`, same shape as the input\n",
    "    \"\"\"\n",
    "    return _reduce_loss(_js_div_2d(target, input), reduction)"
   ]
  },
  {
   "cell_type": "code",
   "execution_count": 6,
   "metadata": {},
   "outputs": [],
   "source": [
    "def canBeCastToList(x):\n",
    "    try:\n",
    "        list(x)\n",
    "        return True\n",
    "    except Exception as e:\n",
    "        return False\n",
    "    \n",
    "def isIterableOfInts(x):\n",
    "    try:\n",
    "        x_new = [v for v in x if int(v) == v]\n",
    "        if len(x) == len(x_new) and len(x) > 0:\n",
    "            return True\n",
    "        return False\n",
    "    except Exception as e:\n",
    "        return False\n",
    "    \n",
    "def canBeCastToInt(x):\n",
    "    try:\n",
    "        if int(x)==x:\n",
    "            return True\n",
    "        else:\n",
    "            return False\n",
    "    except Exception as e:\n",
    "        return False\n",
    "    \n",
    "def canBeCastToFloat(x):\n",
    "    try:\n",
    "        float(x)\n",
    "        return True\n",
    "    except Exception as e:\n",
    "        return False"
   ]
  },
  {
   "cell_type": "code",
   "execution_count": 7,
   "metadata": {},
   "outputs": [],
   "source": [
    "def checkParams(model_params):\n",
    "    regulz_types = set(['None', 'BatchNorm', 'LayerNorm', 'SpLayerNorm', \n",
    "                        'WeightNorm', 'InstanceNorm', 'AdversNorm'])\n",
    "\n",
    "    # check filters\n",
    "    if canBeCastToList(model_params['filters']):\n",
    "        if not isIterableOfInts(model_params['filters']):\n",
    "            raise Exception('param \"filters\" must be LIST of INTEGERS')\n",
    "    else:\n",
    "        raise Exception('param \"filters\" must be ITERABLE')\n",
    "\n",
    "    # check regularization type\n",
    "    if not model_params['regulz_type'] in regulz_types:\n",
    "        raise Exception(f'supported normalization types: {regulz_types}')\n",
    "        \n",
    "    # check pool factor\n",
    "    if not canBeCastToInt(model_params['pool_factor']):\n",
    "        raise Exception(f'\"pool_factor\" must be INTEGER or lossless cast to it')\n",
    "        \n",
    "    # check class number\n",
    "    if not canBeCastToInt(model_params['classes_nb']):\n",
    "        raise Exception(f'\"classes_nb\" must be INTEGER or lossless cast to it')\n",
    "        \n",
    "    # check input shape\n",
    "    if canBeCastToList(model_params['input_shape']):\n",
    "        if not len(list(model_params['input_shape'])) == 3:\n",
    "            raise Exception('param \"input_shape\" LEN must be 3')\n",
    "        if not isIterableOfInts(model_params['filters']):\n",
    "            raise Exception('param \"input_shape\" must be LIST of INTEGERS')\n",
    "    else:\n",
    "        raise Exception('param \"input_shape\" must be ITERABLE')\n",
    "        \n",
    "    # check pool positions\n",
    "    if canBeCastToList(model_params['pool_positions']):\n",
    "        if not isIterableOfInts(model_params['pool_positions']):\n",
    "            raise Exception('param \"pool_positions\" must be LIST of INTEGERS')\n",
    "        if (model_params['pool_positions']) != sorted(model_params['pool_positions']):\n",
    "            raise Exception('\"pool_positions\" must be SORTED by ascending')\n",
    "    else:\n",
    "        raise Exception('param \"pool_positions\" must be ITERABLE')\n",
    "        \n",
    "    # chekc ReLU slope\n",
    "#     if not canBeCastToFloat(model_params['ReLU_slope']):\n",
    "#         raise Exception(f'\"ReLU_slope\" must be FLOAT or can be cast to it')\n",
    "#     if not model_params['ReLU_slope']>=0 and model_params['ReLU_slope']<1:\n",
    "#         raise Exception(f'\"ReLU_slope\" must be GREATER or EQUAL than 0 and LOWER than 1')\n",
    "        "
   ]
  },
  {
   "cell_type": "code",
   "execution_count": 8,
   "metadata": {},
   "outputs": [],
   "source": [
    "# class Adversarial_VGGLike(nn.Module):\n",
    "#     def __init__(self, model_params):\n",
    "#         super().__init__()\n",
    "        \n",
    "#         pool_idx = 0\n",
    "#         block_idx = 0\n",
    "#         current_hw = 32\n",
    "#         self.conv = nn.Sequential()\n",
    "#         prev_filt_size = model_params['input_shape'][0]\n",
    "#         for filt_size in model_params['filters']:\n",
    "#             self.conv.add_module(f'conv_{block_idx}', nn.utils.weight_norm(nn.Conv2d(prev_filt_size,\n",
    "#                                                                                      filt_size,\n",
    "#                                                                                      kernel_size=(3,3),\n",
    "#                                                                                      padding=(1,1),\n",
    "#                                                                                      stride=(1,1)\n",
    "#                                                                                     )\n",
    "#                                                                           )\n",
    "#                                 )\n",
    "#             self.conv.add_module(f'actv_{block_idx}', nn.ReLU())\n",
    "#             block_idx += 1\n",
    "#             if pool_idx < len(model_params['pool_positions']):\n",
    "#                 if block_idx == model_params['pool_positions'][pool_idx]:\n",
    "#                     self.conv.add_module(f'maxpool_{block_idx}', nn.MaxPool2d((model_params['pool_factor'], model_params['pool_factor'])))\n",
    "#                     pool_idx += 1\n",
    "#                     block_idx += 1\n",
    "#                     current_hw *= 1/2\n",
    "#                     current_hw = int(current_hw)\n",
    "#             prev_filt_size = filt_size\n",
    "            \n",
    "#         head_size = current_hw**2 * model_params['filters'][-1]\n",
    "#         self.head = nn.Sequential()\n",
    "#         self.head.add_module('lin', nn.utils.weight_norm(nn.Linear(head_size, head_size)))\n",
    "#         self.head.add_module('clf', nn.utils.weight_norm(nn.Linear(head_size, model_params['classes_nb'])))\n",
    "    \n",
    "        \n",
    "    \n",
    "#     def forward(self, x):\n",
    "#         x = self.conv(x)\n",
    "#         x = x.view(x.shape[0], -1)\n",
    "#         x = self.head(x)\n",
    "#         return x"
   ]
  },
  {
   "cell_type": "code",
   "execution_count": 9,
   "metadata": {},
   "outputs": [],
   "source": [
    "class WN_VGGLike(nn.Module):\n",
    "    def __init__(self, model_params):\n",
    "        super().__init__()\n",
    "        \n",
    "        pool_idx = 0\n",
    "        block_idx = 0\n",
    "        current_hw = 32\n",
    "        self.conv = nn.Sequential()\n",
    "        prev_filt_size = model_params['input_shape'][0]\n",
    "        for filt_size in model_params['filters']:\n",
    "            self.conv.add_module(f'conv_{block_idx}', nn.utils.weight_norm(nn.Conv2d(prev_filt_size,\n",
    "                                                                                     filt_size,\n",
    "                                                                                     kernel_size=(3,3),\n",
    "                                                                                     padding=(1,1),\n",
    "                                                                                     stride=(1,1)\n",
    "                                                                                    )\n",
    "                                                                          )\n",
    "                                )\n",
    "            self.conv.add_module(f'actv_{block_idx}', nn.ReLU())\n",
    "            block_idx += 1\n",
    "            if pool_idx < len(model_params['pool_positions']):\n",
    "                if block_idx == model_params['pool_positions'][pool_idx]:\n",
    "                    self.conv.add_module(f'maxpool_{block_idx}', nn.MaxPool2d((model_params['pool_factor'], model_params['pool_factor'])))\n",
    "                    pool_idx += 1\n",
    "                    block_idx += 1\n",
    "                    current_hw *= 1/2\n",
    "                    current_hw = int(current_hw)\n",
    "            prev_filt_size = filt_size\n",
    "            \n",
    "        head_size = current_hw**2 * model_params['filters'][-1]\n",
    "        self.head = nn.Sequential()\n",
    "        self.head.add_module('lin', nn.utils.weight_norm(nn.Linear(head_size, head_size)))\n",
    "        self.head.add_module('clf', nn.utils.weight_norm(nn.Linear(head_size, model_params['classes_nb'])))\n",
    "    \n",
    "        \n",
    "    \n",
    "    def forward(self, x):\n",
    "        x = self.conv(x)\n",
    "        x = x.view(x.shape[0], -1)\n",
    "        x = self.head(x)\n",
    "        return x"
   ]
  },
  {
   "cell_type": "code",
   "execution_count": 10,
   "metadata": {},
   "outputs": [],
   "source": [
    "class BN_LN_IN_VGGLike(nn.Module):\n",
    "    def __init__(self, model_params):\n",
    "        super().__init__()\n",
    "        \n",
    "        pool_idx = 0\n",
    "        block_idx = 0\n",
    "        current_hw = 32\n",
    "        self.conv = nn.Sequential()\n",
    "        prev_filt_size = model_params['input_shape'][0]\n",
    "        for filt_size in model_params['filters']:\n",
    "            self.conv.add_module(f'conv_{block_idx}', nn.Conv2d(prev_filt_size,\n",
    "                                                  filt_size,\n",
    "                                                  kernel_size=(3,3),\n",
    "                                                  padding=(1,1),\n",
    "                                                  stride=(1,1)\n",
    "                                                 )\n",
    "                            )\n",
    "            \n",
    "            if model_params['regulz_type'] == 'BatchNorm':\n",
    "                self.conv.add_module(f'bn_{block_idx}', nn.BatchNorm2d(filt_size))\n",
    "            if model_params['regulz_type'] == 'LayerNorm':\n",
    "                self.conv.add_module(f'ln_{block_idx}', nn.LayerNorm((filt_size, current_hw, current_hw))) \n",
    "            if model_params['regulz_type'] == 'SpLayerNorm':\n",
    "                self.conv.add_module(f'sln_{block_idx}', nn.LayerNorm((current_hw, current_hw)))\n",
    "            if model_params['regulz_type'] == 'InstanceNorm':\n",
    "                self.conv.add_module(f'in_{block_idx}', nn.InstanceNorm2d(filt_size))\n",
    "            self.conv.add_module(f'actv_{block_idx}', nn.ReLU())\n",
    "            block_idx += 1\n",
    "            if pool_idx < len(model_params['pool_positions']):\n",
    "                if block_idx == model_params['pool_positions'][pool_idx]:\n",
    "                    self.conv.add_module(f'maxpool_{block_idx}', nn.MaxPool2d((model_params['pool_factor'], model_params['pool_factor'])))\n",
    "                    pool_idx += 1\n",
    "                    block_idx += 1\n",
    "                    current_hw *= 1/2\n",
    "                    current_hw = int(current_hw)\n",
    "            prev_filt_size = filt_size\n",
    "            \n",
    "        head_size = current_hw**2 * model_params['filters'][-1]\n",
    "        self.head = nn.Sequential()\n",
    "        self.head.add_module('lin', nn.Linear(head_size, head_size))\n",
    "        self.head.add_module('clf', nn.Linear(head_size, model_params['classes_nb']))\n",
    "    \n",
    "        \n",
    "    \n",
    "    def forward(self, x):\n",
    "        x = self.conv(x)\n",
    "        x = x.view(x.shape[0], -1)\n",
    "        x = self.head(x)\n",
    "        return x"
   ]
  },
  {
   "cell_type": "code",
   "execution_count": 188,
   "metadata": {},
   "outputs": [],
   "source": [
    "def conv2dWeightInit(x):\n",
    "    if isinstance(x, nn.Conv2d):\n",
    "        torch.nn.init.xavier_uniform_(x.weight)\n",
    "        torch.nn.init.zeros_(x.bias)\n",
    "        \n",
    "def linearWeightInit(x):\n",
    "    if isinstance(x, nn.Linear):\n",
    "        torch.nn.init.xavier_uniform_(x.weight)\n",
    "        torch.nn.init.zeros_(x.bias)\n",
    "\n",
    "class VGGLike(pl.LightningModule):\n",
    "    def __init__(self, model_params, logpath, seed=42):\n",
    "        super().__init__()\n",
    "        self.history = {\n",
    "                        'train_loss': [],\n",
    "                        'train': {'loss':[], 'acc':[]},\n",
    "                        'val': {'loss':[], 'acc':[]}\n",
    "                       }\n",
    "        \n",
    "        self.seed = seed\n",
    "        self.model_params = model_params\n",
    "        self.model = None\n",
    "        self.configureModel()\n",
    "        self.transform = transforms.Compose([\n",
    "            transforms.ToTensor()])\n",
    "        \n",
    "        self.targets = []\n",
    "        self.predicts = []\n",
    "        self.confusion_matrix = torch.zeros(self.model_params['classes_nb'], \n",
    "                                            self.model_params['classes_nb'], dtype=int)\n",
    "        self.logpath = logpath\n",
    "        self.vis_dir = 'conf_matrix'\n",
    "        self.ckpt_every_dir = 'every'\n",
    "        \n",
    "        os.makedirs(self.logpath+'/'+self.vis_dir, exist_ok=True)\n",
    "        os.makedirs(self.logpath+'/checkpoints/'+self.ckpt_every_dir, exist_ok=True)\n",
    "        \n",
    "        \n",
    "    def setSeeds(self):\n",
    "        torch.backends.cudnn.deterministic = True\n",
    "        torch.backends.cudnn.benchmark = False\n",
    "        torch.manual_seed(self.seed)\n",
    "        torch.cuda.manual_seed_all((self.seed+1)*2)\n",
    "        np.random.seed((self.seed+2)*3)\n",
    "        random.seed((self.seed+3)*4)\n",
    "        \n",
    "        \n",
    "    def configureModel(self):\n",
    "        if self.model_params['regulz_type'] in ('BatchNorm', 'LayerNorm', 'SpLayerNorm', 'InstanceNorm', 'None'):\n",
    "            self.model = BN_LN_IN_VGGLike(self.model_params)\n",
    "        if self.model_params['regulz_type'] in ('WeightNorm'):\n",
    "            self.model = WN_VGGLike(self.model_params)\n",
    "        \n",
    "        self.setSeeds()\n",
    "        self.model.apply(conv2dWeightInit)\n",
    "        self.model.apply(linearWeightInit)\n",
    "        \n",
    "    def forward(self, x):\n",
    "        return self.model(x)\n",
    "\n",
    "\n",
    "    @pl.data_loader\n",
    "    def train_dataloader(self):\n",
    "        train_data = torchvision.datasets.CIFAR10('./data', train=True, transform=self.transform)\n",
    "        data_loader = torch.utils.data.DataLoader(train_data,\n",
    "                                                  batch_size=self.model_params['batch_size'], \n",
    "                                                  shuffle=True)\n",
    "        if self.seed:\n",
    "            self.setSeeds()\n",
    "        return data_loader\n",
    "    \n",
    "    @pl.data_loader\n",
    "    def val_dataloader(self):\n",
    "        val_data = torchvision.datasets.CIFAR10('./data', train=False, transform=self.transform)\n",
    "        data_loader = torch.utils.data.DataLoader(val_data,\n",
    "                                                  batch_size=self.model_params['batch_size'])\n",
    "        return data_loader\n",
    "    \n",
    "    \n",
    "    def calc_loss(self, logits, target):\n",
    "        loss = F.cross_entropy(logits, target)\n",
    "        return loss\n",
    "    \n",
    "    def configure_optimizers(self):\n",
    "        return optim.Adam(self.parameters(), lr=5e-4)\n",
    "        \n",
    "    def calc_confusion_matrix(self):\n",
    "        targets = torch.cat(self.targets)\n",
    "        preds = torch.cat(self.predicts)\n",
    "        self.confusion_matrix = confusion_matrix(preds, targets).detach().cpu()\n",
    "                    \n",
    "    def visualize_confustion_matrix(self, normalize=True):\n",
    "        if normalize:\n",
    "            self.confusion_matrix_norm = self.confusion_matrix/self.confusion_matrix.sum(dim=1)\n",
    "        fig, ax = plt.subplots(figsize=(8,6), dpi=200)\n",
    "        sns.heatmap(self.confusion_matrix_norm, ax=ax, cmap='Blues', vmin=0, vmax=1, annot=self.confusion_matrix.int(), fmt='d')\n",
    "        ax.set_xlabel('PREDICTED', fontsize=14)\n",
    "        ax.set_ylabel('GROUND TRUTH', fontsize=14)\n",
    "        ax.set_title(f'Epoch_{self.trainer.current_epoch}', fontsize=14)\n",
    "        ax.set_xticklabels(model_params['classes'], rotation=65, fontsize=12)\n",
    "        ax.set_yticklabels(model_params['classes'], rotation=0, fontsize=12)\n",
    "        fig.savefig(self.logpath+'/'+self.vis_dir+f'/epoch_{self.trainer.current_epoch}.png', bbox_inches=\"tight\")\n",
    "        plt.close('all')\n",
    "        \n",
    "    def save_model(self):\n",
    "        path = self.trainer.logger.log_dir.split(os.path.sep)\n",
    "        path.append('checkpoints')\n",
    "        path.append(self.ckpt_every_dir)\n",
    "        path = os.path.sep.join(path)\n",
    "        self.trainer.save_checkpoint(path + f'/epoch={self.trainer.current_epoch}.ckpt')\n",
    "\n",
    "    \n",
    "    def training_step(self, batch, batch_idx):\n",
    "        image, target = batch\n",
    "        logits = self.model(image)\n",
    "        loss = self.calc_loss(logits, target)\n",
    "        metrics = {\n",
    "            'acc': (logits.max(dim=1)[1] == target).sum().float()/len(target)\n",
    "        }\n",
    "        outputs = {\n",
    "            'loss': loss,\n",
    "            'metrics': metrics\n",
    "        }\n",
    "        self.history['train_loss'].append(loss.item())\n",
    "        return outputs\n",
    "    \n",
    "    \n",
    "    def training_epoch_end(self, outputs):\n",
    "        loss = torch.stack([x['loss'] for x in outputs])\n",
    "        avg_loss = loss.mean()\n",
    "        self.history['train']['loss'].append(avg_loss.item())\n",
    "        \n",
    "        for metric in outputs[0]['metrics'].keys():\n",
    "            metric_values = torch.stack([x['metrics'][metric] for x in outputs])\n",
    "            avg_metric = metric_values.mean()\n",
    "            self.history['train'][metric].append(avg_metric.item())\n",
    "        return {\n",
    "            'train_loss': avg_loss\n",
    "        }\n",
    "    \n",
    "    \n",
    "    def validation_step(self, batch, batch_idx):\n",
    "        image, target = batch\n",
    "        logits = self.model(image)\n",
    "        loss = self.calc_loss(logits, target)\n",
    "        class_preds = logits.max(dim=1)[1]\n",
    "        \n",
    "        self.predicts.append(class_preds)\n",
    "        self.targets.append(target)\n",
    "        \n",
    "        metrics = {\n",
    "            'acc': (class_preds == target).sum().float()/len(target)\n",
    "        }\n",
    "        outputs = {\n",
    "            'loss': loss,\n",
    "            'metrics': metrics\n",
    "        }\n",
    "        return outputs\n",
    "\n",
    "            \n",
    "    def validation_epoch_end(self, outputs):\n",
    "        loss = torch.stack([x['loss'] for x in outputs])\n",
    "        avg_loss = loss.mean()\n",
    "        self.history['val']['loss'].append(avg_loss.item())\n",
    "        \n",
    "        self.save_model()\n",
    "        self.calc_confusion_matrix()\n",
    "        self.visualize_confustion_matrix(normalize=True)\n",
    "        self.targets = []\n",
    "        self.predicts = []\n",
    "        \n",
    "        for metric in outputs[0]['metrics'].keys():\n",
    "            metric_values = torch.stack([x['metrics'][metric] for x in outputs])\n",
    "            avg_metric = metric_values.mean()\n",
    "            self.history['val'][metric].append(avg_metric.item())\n",
    "        return {\n",
    "            'val_loss': avg_loss,\n",
    "            'val_acc': torch.FloatTensor([self.history['val']['acc'][-1]])\n",
    "        }"
   ]
  },
  {
   "cell_type": "code",
   "execution_count": 189,
   "metadata": {},
   "outputs": [
    {
     "name": "stdout",
     "output_type": "stream",
     "text": [
      "[4, 6, 8, 12, 16, 24]\n"
     ]
    }
   ],
   "source": [
    "def generate_filters(conv_layers_nb, filters_base, begin_factor=2):\n",
    "    filters = [begin_factor*filters_base]\n",
    "    interv = 2\n",
    "    difference = 1\n",
    "    factor = begin_factor\n",
    "    for i in range(conv_layers_nb-1):\n",
    "        if i%interv == 0 and i != 0:\n",
    "            difference *= 2\n",
    "        factor += difference\n",
    "        filters.append(factor*filters_base)\n",
    "    return filters\n",
    "\n",
    "def generate_logname(model_params):\n",
    "    logname = ''\n",
    "    logname += 'fnb_' + str(len(model_params['filters'])) + '--'\n",
    "    logname += 'fbase_' + str(int(model_params['filters'][0]/2)) + '--'\n",
    "    if model_params['regulz_type'] == 'WeightNorm':\n",
    "        rname = 'WN_'\n",
    "    if model_params['regulz_type'] == 'BatchNorm':\n",
    "        rname = 'BN_' + str(model_params['batch_size'])\n",
    "    if model_params['regulz_type'] == 'InstanceNorm':\n",
    "        rname = 'IN_'\n",
    "    if model_params['regulz_type'] == 'LayerNorm':\n",
    "        rname = 'LN_'\n",
    "    if model_params['regulz_type'] == 'SpLayerNorm':\n",
    "        rname = 'SLN_'\n",
    "    if model_params['regulz_type'] == 'None':\n",
    "        rname = 'NONE_'\n",
    "    logname += rname\n",
    "    \n",
    "    return logname\n",
    "        \n",
    "print(generate_filters(conv_layers_nb=6, filters_base=2, begin_factor=2))"
   ]
  },
  {
   "cell_type": "code",
   "execution_count": 190,
   "metadata": {},
   "outputs": [
    {
     "name": "stderr",
     "output_type": "stream",
     "text": [
      "GPU available: True, used: True\n",
      "TPU available: False, using: 0 TPU cores\n",
      "CUDA_VISIBLE_DEVICES: [0]\n"
     ]
    },
    {
     "data": {
      "application/vnd.jupyter.widget-view+json": {
       "model_id": "65bb48e8b9df4482ac7993d1fe512d62",
       "version_major": 2,
       "version_minor": 0
      },
      "text/plain": [
       "HBox(children=(FloatProgress(value=1.0, bar_style='info', description='Training', layout=Layout(flex='2'), max…"
      ]
     },
     "metadata": {},
     "output_type": "display_data"
    },
    {
     "data": {
      "application/vnd.jupyter.widget-view+json": {
       "model_id": "",
       "version_major": 2,
       "version_minor": 0
      },
      "text/plain": [
       "HBox(children=(FloatProgress(value=1.0, bar_style='info', description='Validating', layout=Layout(flex='2'), m…"
      ]
     },
     "metadata": {},
     "output_type": "display_data"
    },
    {
     "data": {
      "application/vnd.jupyter.widget-view+json": {
       "model_id": "",
       "version_major": 2,
       "version_minor": 0
      },
      "text/plain": [
       "HBox(children=(FloatProgress(value=1.0, bar_style='info', description='Validating', layout=Layout(flex='2'), m…"
      ]
     },
     "metadata": {},
     "output_type": "display_data"
    },
    {
     "data": {
      "application/vnd.jupyter.widget-view+json": {
       "model_id": "",
       "version_major": 2,
       "version_minor": 0
      },
      "text/plain": [
       "HBox(children=(FloatProgress(value=1.0, bar_style='info', description='Validating', layout=Layout(flex='2'), m…"
      ]
     },
     "metadata": {},
     "output_type": "display_data"
    },
    {
     "data": {
      "application/vnd.jupyter.widget-view+json": {
       "model_id": "",
       "version_major": 2,
       "version_minor": 0
      },
      "text/plain": [
       "HBox(children=(FloatProgress(value=1.0, bar_style='info', description='Validating', layout=Layout(flex='2'), m…"
      ]
     },
     "metadata": {},
     "output_type": "display_data"
    },
    {
     "data": {
      "application/vnd.jupyter.widget-view+json": {
       "model_id": "",
       "version_major": 2,
       "version_minor": 0
      },
      "text/plain": [
       "HBox(children=(FloatProgress(value=1.0, bar_style='info', description='Validating', layout=Layout(flex='2'), m…"
      ]
     },
     "metadata": {},
     "output_type": "display_data"
    },
    {
     "data": {
      "application/vnd.jupyter.widget-view+json": {
       "model_id": "",
       "version_major": 2,
       "version_minor": 0
      },
      "text/plain": [
       "HBox(children=(FloatProgress(value=1.0, bar_style='info', description='Validating', layout=Layout(flex='2'), m…"
      ]
     },
     "metadata": {},
     "output_type": "display_data"
    },
    {
     "data": {
      "application/vnd.jupyter.widget-view+json": {
       "model_id": "",
       "version_major": 2,
       "version_minor": 0
      },
      "text/plain": [
       "HBox(children=(FloatProgress(value=1.0, bar_style='info', description='Validating', layout=Layout(flex='2'), m…"
      ]
     },
     "metadata": {},
     "output_type": "display_data"
    },
    {
     "data": {
      "application/vnd.jupyter.widget-view+json": {
       "model_id": "",
       "version_major": 2,
       "version_minor": 0
      },
      "text/plain": [
       "HBox(children=(FloatProgress(value=1.0, bar_style='info', description='Validating', layout=Layout(flex='2'), m…"
      ]
     },
     "metadata": {},
     "output_type": "display_data"
    },
    {
     "data": {
      "application/vnd.jupyter.widget-view+json": {
       "model_id": "",
       "version_major": 2,
       "version_minor": 0
      },
      "text/plain": [
       "HBox(children=(FloatProgress(value=1.0, bar_style='info', description='Validating', layout=Layout(flex='2'), m…"
      ]
     },
     "metadata": {},
     "output_type": "display_data"
    },
    {
     "data": {
      "application/vnd.jupyter.widget-view+json": {
       "model_id": "",
       "version_major": 2,
       "version_minor": 0
      },
      "text/plain": [
       "HBox(children=(FloatProgress(value=1.0, bar_style='info', description='Validating', layout=Layout(flex='2'), m…"
      ]
     },
     "metadata": {},
     "output_type": "display_data"
    },
    {
     "name": "stdout",
     "output_type": "stream",
     "text": [
      "\n",
      "Wall time: 6min\n"
     ]
    }
   ],
   "source": [
    "%%time\n",
    "\n",
    "classes =[\n",
    "     'airplane',\n",
    "     'automobile',\n",
    "     'bird',\n",
    "     'cat',\n",
    "     'deer',\n",
    "     'dog',\n",
    "     'frog',\n",
    "     'horse',\n",
    "     'ship',\n",
    "     'truck'\n",
    "]\n",
    "\n",
    "# model params\n",
    "model_params = {\n",
    "    'filters': [4, 6, 8, 12, 16, 24],\n",
    "    'pool_positions': [1, 3, 5, 7, 9], # indexing start from 0\n",
    "    'regulz_type': 'None',\n",
    "    'pool_factor': 2,\n",
    "    'classes': classes,\n",
    "    'classes_nb': 10,\n",
    "    'input_shape': [3, 32, 32], # [C, H, W]\n",
    "    'batch_size': 128\n",
    "}\n",
    "\n",
    "# recreate log directory\n",
    "logname = generate_logname(model_params)\n",
    "logpath = './'+LOGDIR+'/'+logname\n",
    "if os.path.exists(logpath):\n",
    "    shutil.rmtree(logpath)\n",
    "os.makedirs(logpath, exist_ok=True)\n",
    "\n",
    "# model initialize\n",
    "model = VGGLike(model_params, logpath=logpath, seed=42)\n",
    "\n",
    "os.makedirs(logpath+'/checkpoints/best/', exist_ok=True)\n",
    "checkpoint_callback = ModelCheckpoint(\n",
    "    filepath=logpath+'/checkpoints/best/',\n",
    "    save_top_k=1,\n",
    "    verbose=False,\n",
    "    monitor='val_acc',\n",
    "    mode='max',\n",
    "    prefix=''\n",
    ")\n",
    "\n",
    "# model training\n",
    "tb_logger = pl_loggers.TensorBoardLogger(LOGDIR, name=logname, version='')\n",
    "trainer = Trainer(logger=tb_logger, gpus=1, max_epochs=10,\n",
    "                  checkpoint_callback=checkpoint_callback,\n",
    "                  num_sanity_val_steps=0,\n",
    "                  weights_summary=None,\n",
    "                  progress_bar_refresh_rate=1\n",
    "                 )\n",
    "trainer.fit(model)\n",
    "\n",
    "# save history\n",
    "pd.DataFrame(model.history['train_loss'], columns=['train_loss']).to_csv(logpath+'/train_loss.csv', index=False)\n",
    "pd.DataFrame(model.history['train']).to_csv(logpath+'/train.csv', index=False)\n",
    "pd.DataFrame(model.history['val']).to_csv(logpath+'/val.csv', index=False)"
   ]
  },
  {
   "cell_type": "code",
   "execution_count": 187,
   "metadata": {},
   "outputs": [
    {
     "data": {
      "text/plain": [
       "tensor([0.2469])"
      ]
     },
     "execution_count": 187,
     "metadata": {},
     "output_type": "execute_result"
    }
   ],
   "source": [
    "torch.FloatTensor([model.history['val']['acc'][-1]])"
   ]
  },
  {
   "cell_type": "code",
   "execution_count": 184,
   "metadata": {},
   "outputs": [
    {
     "data": {
      "text/plain": [
       "tensor([4.])"
      ]
     },
     "execution_count": 184,
     "metadata": {},
     "output_type": "execute_result"
    }
   ],
   "source": [
    "torch.FloatTensor([4])"
   ]
  },
  {
   "cell_type": "code",
   "execution_count": 152,
   "metadata": {},
   "outputs": [
    {
     "data": {
      "text/plain": [
       "'logs\\\\fnb_6--fbase_2--NONE_\\\\'"
      ]
     },
     "execution_count": 152,
     "metadata": {},
     "output_type": "execute_result"
    }
   ],
   "source": [
    "model.trainer.logger.log_dir"
   ]
  },
  {
   "cell_type": "code",
   "execution_count": 153,
   "metadata": {},
   "outputs": [
    {
     "data": {
      "text/plain": [
       "'logs'"
      ]
     },
     "execution_count": 153,
     "metadata": {},
     "output_type": "execute_result"
    }
   ],
   "source": [
    "LOGDIR"
   ]
  },
  {
   "cell_type": "code",
   "execution_count": 148,
   "metadata": {},
   "outputs": [
    {
     "data": {
      "text/plain": [
       "'C:\\\\Files\\\\Projects\\\\Summer Practice'"
      ]
     },
     "execution_count": 148,
     "metadata": {},
     "output_type": "execute_result"
    }
   ],
   "source": [
    "os.getcwd()"
   ]
  },
  {
   "cell_type": "code",
   "execution_count": null,
   "metadata": {},
   "outputs": [],
   "source": []
  },
  {
   "cell_type": "code",
   "execution_count": null,
   "metadata": {},
   "outputs": [],
   "source": []
  },
  {
   "cell_type": "code",
   "execution_count": null,
   "metadata": {},
   "outputs": [],
   "source": []
  },
  {
   "cell_type": "code",
   "execution_count": 44,
   "metadata": {},
   "outputs": [],
   "source": [
    "val_data = torchvision.datasets.CIFAR10('./data', train=False)"
   ]
  },
  {
   "cell_type": "code",
   "execution_count": 46,
   "metadata": {},
   "outputs": [
    {
     "data": {
      "text/plain": [
       "[Text(0, 0.5, 'airplane'),\n",
       " Text(0, 1.5, 'automobile'),\n",
       " Text(0, 2.5, 'bird'),\n",
       " Text(0, 3.5, 'cat'),\n",
       " Text(0, 4.5, 'deer'),\n",
       " Text(0, 5.5, 'dog'),\n",
       " Text(0, 6.5, 'frog'),\n",
       " Text(0, 7.5, 'horse'),\n",
       " Text(0, 8.5, 'ship'),\n",
       " Text(0, 9.5, 'truck')]"
      ]
     },
     "execution_count": 46,
     "metadata": {},
     "output_type": "execute_result"
    },
    {
     "data": {
      "image/png": "[encoded data removed]",
      "text/plain": [
       "<Figure size 800x600 with 2 Axes>"
      ]
     },
     "metadata": {
      "needs_background": "light"
     },
     "output_type": "display_data"
    }
   ],
   "source": [
    "cnf = torch.rand(10,10)\n",
    "cnf /= cnf.max()\n",
    "fig, ax = plt.subplots(figsize=(8,6), dpi=100)\n",
    "sns.heatmap(cnf, ax=ax, cmap='Blues', vmin=0, vmax=1, annot = cnf)\n",
    "ax.set_ylabel('PREDICTED', fontsize=14)\n",
    "ax.set_xlabel('GROUND TRUTH', fontsize=14)\n",
    "ax.set_title(f'Epoch', fontsize=14)\n",
    "ax.set_xticklabels(val_data.classes, rotation=65, fontsize=12)\n",
    "ax.set_yticklabels(val_data.classes, rotation=0, fontsize=12)\n",
    "# ax.set_xticks(val_data.classes, rotation=90)"
   ]
  },
  {
   "cell_type": "code",
   "execution_count": null,
   "metadata": {},
   "outputs": [],
   "source": []
  },
  {
   "cell_type": "code",
   "execution_count": 69,
   "metadata": {},
   "outputs": [],
   "source": [
    "for i in range(200):\n",
    "    cnf = torch.rand(10,10)\n",
    "    cnf /= cnf.max()\n",
    "    fig, ax = plt.subplots(figsize=(8,6), dpi=200)\n",
    "    sns.heatmap(cnf, ax=ax, cmap='Blues', vmin=0, vmax=1)\n",
    "    ax.set_ylabel('PREDICTED', fontsize=14)\n",
    "    ax.set_xlabel('GROUND TRUTH', fontsize=14)\n",
    "    ax.set_title(f'Epoch', fontsize=14)\n",
    "    ax.set_xticklabels(val_data.classes, rotation=65, fontsize=12)\n",
    "    ax.set_yticklabels(val_data.classes, rotation=0, fontsize=12)\n",
    "    fig.savefig(f'temp/asd_{i}.png', bbox_inches=\"tight\")\n",
    "    plt.close('all')"
   ]
  },
  {
   "cell_type": "code",
   "execution_count": 70,
   "metadata": {},
   "outputs": [],
   "source": [
    "import glob\n",
    "from PIL import Image"
   ]
  },
  {
   "cell_type": "code",
   "execution_count": 71,
   "metadata": {},
   "outputs": [],
   "source": [
    "frames = []\n",
    "imgs = glob.glob(\"./temp/*.png\")\n",
    "imgs.sort(key=os.path.getmtime)\n",
    "for i in imgs:\n",
    "    new_frame = Image.open(i)\n",
    "    frames.append(new_frame.resize(np.array(new_frame.size)//3))\n",
    " \n",
    "# Save into a GIF file that loops forever\n",
    "frames[0].save('png_to_gif.gif', format='GIF',\n",
    "               append_images=frames[1:],\n",
    "               save_all=True,\n",
    "               duration=200, loop=0)"
   ]
  },
  {
   "cell_type": "code",
   "execution_count": 41,
   "metadata": {},
   "outputs": [],
   "source": []
  },
  {
   "cell_type": "code",
   "execution_count": null,
   "metadata": {},
   "outputs": [],
   "source": []
  },
  {
   "cell_type": "code",
   "execution_count": null,
   "metadata": {},
   "outputs": [],
   "source": []
  },
  {
   "cell_type": "code",
   "execution_count": null,
   "metadata": {},
   "outputs": [],
   "source": []
  },
  {
   "cell_type": "code",
   "execution_count": null,
   "metadata": {},
   "outputs": [],
   "source": []
  }
 ],
 "metadata": {
  "kernelspec": {
   "display_name": "Python 3",
   "language": "python",
   "name": "python3"
  },
  "language_info": {
   "codemirror_mode": {
    "name": "ipython",
    "version": 3
   },
   "file_extension": ".py",
   "mimetype": "text/x-python",
   "name": "python",
   "nbconvert_exporter": "python",
   "pygments_lexer": "ipython3",
   "version": "3.7.7"
  }
 },
 "nbformat": 4,
 "nbformat_minor": 4
}
