{
 "cells": [
  {
   "cell_type": "code",
   "execution_count": 46,
   "metadata": {},
   "outputs": [
    {
     "name": "stdout",
     "output_type": "stream",
     "text": [
      "tensor([[-4., -4., -4.],\n",
      "        [-4., -4., -4.]])\n"
     ]
    }
   ],
   "source": [
    "x = torch.ones(2, 3, requires_grad=True)\n",
    "a = torch.ones(3, 4)\n",
    "out = torch.mm(x,a)    # shape: (2,4)\n",
    "\n",
    "gradient = torch.zeros(2, 4)-1\n",
    "out.backward(gradient)\n",
    "print(x.grad)"
   ]
  },
  {
   "cell_type": "code",
   "execution_count": 47,
   "metadata": {},
   "outputs": [
    {
     "data": {
      "text/plain": [
       "tensor([[-0.5000, -0.5000, -0.5000],\n",
       "        [-0.5000, -0.5000, -0.5000]])"
      ]
     },
     "execution_count": 47,
     "metadata": {},
     "output_type": "execute_result"
    }
   ],
   "source": [
    "x = torch.ones(2, 3, requires_grad=True)\n",
    "a = torch.ones(3, 4)\n",
    "out = torch.mm(x,a)    # shape: (2,4)\n",
    "out = (out*(-1)).mean()\n",
    "out.backward()\n",
    "x.grad"
   ]
  },
  {
   "cell_type": "code",
   "execution_count": null,
   "metadata": {},
   "outputs": [],
   "source": []
  },
  {
   "cell_type": "code",
   "execution_count": null,
   "metadata": {},
   "outputs": [],
   "source": []
  },
  {
   "cell_type": "code",
   "execution_count": null,
   "metadata": {},
   "outputs": [],
   "source": []
  },
  {
   "cell_type": "code",
   "execution_count": 104,
   "metadata": {},
   "outputs": [
    {
     "data": {
      "text/plain": [
       "tensor([[[-1.6305, -1.4946, -1.3587, -1.2229, -1.0870],\n",
       "         [-0.9511, -0.8152, -0.6794, -0.5435, -0.4076],\n",
       "         [-0.2717, -0.1359,  0.0000,  0.1359,  0.2717],\n",
       "         [ 0.4076,  0.5435,  0.6794,  0.8152,  0.9511],\n",
       "         [ 1.0870,  1.2229,  1.3587,  1.4946,  1.6305]],\n",
       "\n",
       "        [[-1.6305, -1.4946, -1.3587, -1.2229, -1.0870],\n",
       "         [-0.9511, -0.8152, -0.6794, -0.5435, -0.4076],\n",
       "         [-0.2717, -0.1359,  0.0000,  0.1359,  0.2717],\n",
       "         [ 0.4076,  0.5435,  0.6794,  0.8152,  0.9511],\n",
       "         [ 1.0870,  1.2229,  1.3587,  1.4946,  1.6305]],\n",
       "\n",
       "        [[-1.6305, -1.4946, -1.3587, -1.2229, -1.0870],\n",
       "         [-0.9511, -0.8152, -0.6794, -0.5435, -0.4076],\n",
       "         [-0.2717, -0.1359,  0.0000,  0.1359,  0.2717],\n",
       "         [ 0.4076,  0.5435,  0.6794,  0.8152,  0.9511],\n",
       "         [ 1.0870,  1.2229,  1.3587,  1.4946,  1.6305]]], dtype=torch.float64)"
      ]
     },
     "execution_count": 104,
     "metadata": {},
     "output_type": "execute_result"
    }
   ],
   "source": [
    "x = torch.ones(32,3,5,5) * torch.arange(start=0, end=32*3*5*5, dtype=float).reshape(32,3,5,5)\n",
    "x = x.view(x.shape[0], x.shape[1], -1)\n",
    "xmean = x.mean(dim=2).unsqueeze(2).repeat(1,1,25)\n",
    "xvar = x.var(dim=2).unsqueeze(2).repeat(1,1,25)\n",
    "eps = 1e-5\n",
    "x = (x - xmean)/torch.sqrt(xvar + eps)\n",
    "x = x.reshape(32,3,5,5)\n",
    "x[25]"
   ]
  },
  {
   "cell_type": "code",
   "execution_count": 103,
   "metadata": {},
   "outputs": [
    {
     "data": {
      "text/plain": [
       "tensor([[[-1.6641, -1.5254, -1.3868, -1.2481, -1.1094],\n",
       "         [-0.9707, -0.8321, -0.6934, -0.5547, -0.4160],\n",
       "         [-0.2774, -0.1387,  0.0000,  0.1387,  0.2774],\n",
       "         [ 0.4160,  0.5547,  0.6934,  0.8321,  0.9707],\n",
       "         [ 1.1094,  1.2481,  1.3868,  1.5254,  1.6641]],\n",
       "\n",
       "        [[-1.6641, -1.5254, -1.3868, -1.2481, -1.1094],\n",
       "         [-0.9707, -0.8321, -0.6934, -0.5547, -0.4160],\n",
       "         [-0.2774, -0.1387,  0.0000,  0.1387,  0.2774],\n",
       "         [ 0.4160,  0.5547,  0.6934,  0.8321,  0.9707],\n",
       "         [ 1.1094,  1.2481,  1.3868,  1.5254,  1.6641]],\n",
       "\n",
       "        [[-1.6641, -1.5254, -1.3868, -1.2481, -1.1094],\n",
       "         [-0.9707, -0.8321, -0.6934, -0.5547, -0.4160],\n",
       "         [-0.2774, -0.1387,  0.0000,  0.1387,  0.2774],\n",
       "         [ 0.4160,  0.5547,  0.6934,  0.8321,  0.9707],\n",
       "         [ 1.1094,  1.2481,  1.3868,  1.5254,  1.6641]]], dtype=torch.float64)"
      ]
     },
     "execution_count": 103,
     "metadata": {},
     "output_type": "execute_result"
    }
   ],
   "source": [
    "x = torch.ones(32,3,5,5) * torch.arange(start=0, end=32*3*5*5, dtype=float).reshape(32,3,5,5)\n",
    "m = nn.InstanceNorm2d(10)\n",
    "x = m(x)\n",
    "x[25]"
   ]
  },
  {
   "cell_type": "code",
   "execution_count": 102,
   "metadata": {},
   "outputs": [
    {
     "data": {
      "text/plain": [
       "tensor([[[-1.6641, -1.5254, -1.3867, -1.2481, -1.1094],\n",
       "         [-0.9707, -0.8320, -0.6934, -0.5547, -0.4160],\n",
       "         [-0.2773, -0.1387,  0.0000,  0.1387,  0.2774],\n",
       "         [ 0.4160,  0.5547,  0.6934,  0.8321,  0.9707],\n",
       "         [ 1.1094,  1.2481,  1.3867,  1.5254,  1.6641]],\n",
       "\n",
       "        [[-1.6641, -1.5254, -1.3867, -1.2481, -1.1094],\n",
       "         [-0.9707, -0.8321, -0.6934, -0.5547, -0.4160],\n",
       "         [-0.2773, -0.1387,  0.0000,  0.1387,  0.2773],\n",
       "         [ 0.4160,  0.5547,  0.6934,  0.8321,  0.9707],\n",
       "         [ 1.1094,  1.2481,  1.3867,  1.5254,  1.6641]],\n",
       "\n",
       "        [[-1.6681, -1.5291, -1.3901, -1.2511, -1.1121],\n",
       "         [-0.9731, -0.8341, -0.6951, -0.5561, -0.4171],\n",
       "         [-0.2780, -0.1390,  0.0000,  0.1390,  0.2780],\n",
       "         [ 0.4170,  0.5560,  0.6950,  0.8340,  0.9731],\n",
       "         [ 1.1121,  1.2511,  1.3901,  1.5291,  1.6681]]],\n",
       "       grad_fn=<SelectBackward>)"
      ]
     },
     "execution_count": 102,
     "metadata": {},
     "output_type": "execute_result"
    }
   ],
   "source": [
    "x = torch.ones(32,3,5,5) * torch.arange(start=0, end=32*3*5*5).reshape(32,3,5,5)\n",
    "m = nn.LayerNorm((5, 5))\n",
    "x = m(x)\n",
    "x[25]"
   ]
  },
  {
   "cell_type": "code",
   "execution_count": null,
   "metadata": {},
   "outputs": [],
   "source": []
  },
  {
   "cell_type": "code",
   "execution_count": null,
   "metadata": {},
   "outputs": [],
   "source": []
  },
  {
   "cell_type": "code",
   "execution_count": null,
   "metadata": {},
   "outputs": [],
   "source": []
  },
  {
   "cell_type": "code",
   "execution_count": null,
   "metadata": {},
   "outputs": [],
   "source": []
  },
  {
   "cell_type": "code",
   "execution_count": null,
   "metadata": {},
   "outputs": [],
   "source": []
  },
  {
   "cell_type": "code",
   "execution_count": 165,
   "metadata": {},
   "outputs": [
    {
     "data": {
      "text/plain": [
       "tensor([[[-1.6305, -1.4946, -1.3587, -1.2229, -1.0870],\n",
       "         [-0.9511, -0.8152, -0.6794, -0.5435, -0.4076],\n",
       "         [-0.2717, -0.1359,  0.0000,  0.1359,  0.2717],\n",
       "         [ 0.4076,  0.5435,  0.6794,  0.8152,  0.9511],\n",
       "         [ 1.0870,  1.2229,  1.3587,  1.4946,  1.6305]],\n",
       "\n",
       "        [[-1.6305, -1.4946, -1.3587, -1.2229, -1.0870],\n",
       "         [-0.9511, -0.8152, -0.6794, -0.5435, -0.4076],\n",
       "         [-0.2717, -0.1359,  0.0000,  0.1359,  0.2717],\n",
       "         [ 0.4076,  0.5435,  0.6794,  0.8152,  0.9511],\n",
       "         [ 1.0870,  1.2229,  1.3587,  1.4946,  1.6305]],\n",
       "\n",
       "        [[-1.6305, -1.4946, -1.3587, -1.2229, -1.0870],\n",
       "         [-0.9511, -0.8152, -0.6794, -0.5435, -0.4076],\n",
       "         [-0.2717, -0.1359,  0.0000,  0.1359,  0.2717],\n",
       "         [ 0.4076,  0.5435,  0.6794,  0.8152,  0.9511],\n",
       "         [ 1.0870,  1.2229,  1.3587,  1.4946,  1.6305]]], dtype=torch.float64)"
      ]
     },
     "execution_count": 165,
     "metadata": {},
     "output_type": "execute_result"
    }
   ],
   "source": [
    "x = torch.ones(32,3,5,5) * torch.arange(start=0, end=32*3*5*5, dtype=float).reshape(32,3,5,5)\n",
    "m = CustomInstanceNorm()\n",
    "x = m(x)\n",
    "x[0]"
   ]
  },
  {
   "cell_type": "code",
   "execution_count": null,
   "metadata": {},
   "outputs": [],
   "source": []
  },
  {
   "cell_type": "code",
   "execution_count": 97,
   "metadata": {},
   "outputs": [],
   "source": []
  },
  {
   "cell_type": "code",
   "execution_count": null,
   "metadata": {},
   "outputs": [],
   "source": []
  },
  {
   "cell_type": "code",
   "execution_count": null,
   "metadata": {},
   "outputs": [],
   "source": []
  },
  {
   "cell_type": "code",
   "execution_count": 60,
   "metadata": {},
   "outputs": [
    {
     "data": {
      "text/plain": [
       "tensor([-0.0405,  0.1751,  0.0202, -0.1420,  0.0629,  0.0062,  0.1091,  0.0397,\n",
       "         0.0125, -0.0833, -0.0844,  0.0227,  0.0235, -0.0816,  0.0277,  0.0529,\n",
       "         0.0705, -0.2994,  0.0664, -0.0998,  0.0305,  0.2128, -0.0936, -0.1507,\n",
       "         0.1267, -0.0210,  0.0741, -0.0622,  0.0851,  0.0789,  0.0103,  0.0558])"
      ]
     },
     "execution_count": 60,
     "metadata": {},
     "output_type": "execute_result"
    }
   ],
   "source": [
    "x.mean(dim=1)"
   ]
  },
  {
   "cell_type": "code",
   "execution_count": 61,
   "metadata": {},
   "outputs": [
    {
     "data": {
      "text/plain": [
       "tensor([1.2492, 1.0203, 0.9343, 0.8781, 1.1991, 0.9870, 0.8757, 1.1141, 0.9959,\n",
       "        0.8871, 0.9256, 1.0216, 1.1385, 0.7484, 0.5857, 0.9612, 1.2935, 0.9823,\n",
       "        0.9618, 0.9124, 1.0725, 1.0232, 1.3554, 1.1041, 0.9177, 0.7883, 1.0336,\n",
       "        1.2861, 0.7910, 0.7456, 0.8340, 0.9144])"
      ]
     },
     "execution_count": 61,
     "metadata": {},
     "output_type": "execute_result"
    }
   ],
   "source": [
    "x.var(dim=1)"
   ]
  },
  {
   "cell_type": "code",
   "execution_count": null,
   "metadata": {},
   "outputs": [],
   "source": []
  },
  {
   "cell_type": "code",
   "execution_count": null,
   "metadata": {},
   "outputs": [],
   "source": []
  },
  {
   "cell_type": "code",
   "execution_count": null,
   "metadata": {},
   "outputs": [],
   "source": []
  },
  {
   "cell_type": "code",
   "execution_count": null,
   "metadata": {},
   "outputs": [],
   "source": []
  },
  {
   "cell_type": "code",
   "execution_count": 164,
   "metadata": {},
   "outputs": [],
   "source": [
    "class CustomInstanceNorm(nn.Module):\n",
    "    def __init__(self):\n",
    "        super().__init__()\n",
    "        \n",
    "    def forward(self, x):\n",
    "        n,c,h,w = x.shape\n",
    "        x = x.view(x.shape[0], x.shape[1], -1)\n",
    "        xmean = x.mean(dim=2).unsqueeze(2).repeat(1,1,h*w)\n",
    "        xvar = x.var(dim=2).unsqueeze(2).repeat(1,1,h*w)\n",
    "        eps = 1e-5\n",
    "        x = (x - xmean)/torch.sqrt(xvar + eps)\n",
    "        x = x.reshape(n,c,h,w)\n",
    "        return x"
   ]
  },
  {
   "cell_type": "code",
   "execution_count": null,
   "metadata": {},
   "outputs": [],
   "source": []
  },
  {
   "cell_type": "code",
   "execution_count": null,
   "metadata": {},
   "outputs": [],
   "source": []
  },
  {
   "cell_type": "code",
   "execution_count": null,
   "metadata": {},
   "outputs": [],
   "source": []
  },
  {
   "cell_type": "markdown",
   "metadata": {},
   "source": [
    "1. берем VGG-like сеть (всегда glorot инициализация или подобное);\n",
    "  - поседовательность фильтов - 2 n, 3 n, 4 n, 6 n, 8 n, 12 n, ...\n",
    "2. примерно находим n такое, что сеть без какой-либо регуляризации переобучается, но для n / 2 уже нет;\n",
    "  - т.е. найти примерно оптимальное n и взять ~1.5-2x больше.\n",
    "3. натренировать сети со всеми перечисленными методами;\n",
    "  - где это возможно, варьировать силу регуляризации (~5 точек);\n",
    "  - если это невозможно (e.g., batch norm), то варьровать n.\n",
    "4. Normalizations:\n",
    "  - BatchNorm\n",
    "  - SpatialLayerNorm\n",
    "  - LayerNorm\n",
    "  - AdversarialNorm\n",
    "  - WeightNorm\n",
    "  - Dropout?\n",
    "5. построить график на подобии README."
   ]
  },
  {
   "cell_type": "code",
   "execution_count": 1,
   "metadata": {},
   "outputs": [
    {
     "name": "stderr",
     "output_type": "stream",
     "text": [
      "C:\\Users\\Admin\\miniconda3\\envs\\default\\lib\\site-packages\\pytorch_lightning\\utilities\\distributed.py:25: UserWarning: Unsupported `ReduceOp` for distributed computing.\n",
      "  warnings.warn(*args, **kwargs)\n"
     ]
    }
   ],
   "source": [
    "import os\n",
    "import sys\n",
    "import random\n",
    "import shutil\n",
    "from collections import OrderedDict\n",
    "\n",
    "import pandas as pd\n",
    "import numpy as np\n",
    "import matplotlib.pyplot as plt\n",
    "%matplotlib inline\n",
    "import seaborn as sns\n",
    "\n",
    "import torch\n",
    "import torch.nn as nn\n",
    "import torch.nn.functional as F\n",
    "import torch.optim as optim\n",
    "from torch.utils.data import Dataset, DataLoader\n",
    "\n",
    "import torchvision\n",
    "import torchvision.transforms as transforms\n",
    "\n",
    "import pytorch_lightning as pl\n",
    "from pytorch_lightning import loggers as pl_loggers\n",
    "from pytorch_lightning import Trainer\n",
    "from pytorch_lightning.metrics.classification import confusion_matrix\n",
    "from pytorch_lightning.callbacks import ModelCheckpoint\n",
    "\n",
    "\n",
    "LOGDIR = 'logs_tmp'\n",
    "os.makedirs('./'+LOGDIR, exist_ok=True)"
   ]
  },
  {
   "cell_type": "code",
   "execution_count": 2,
   "metadata": {},
   "outputs": [
    {
     "name": "stdout",
     "output_type": "stream",
     "text": [
      "Files already downloaded and verified\n",
      "Files already downloaded and verified\n"
     ]
    },
    {
     "data": {
      "text/plain": [
       "Dataset CIFAR10\n",
       "    Number of datapoints: 10000\n",
       "    Root location: ./data\n",
       "    Split: Test"
      ]
     },
     "execution_count": 2,
     "metadata": {},
     "output_type": "execute_result"
    }
   ],
   "source": [
    "torchvision.datasets.CIFAR10('./data', train=True, download=True)\n",
    "torchvision.datasets.CIFAR10('./data', train=False, download=True)"
   ]
  },
  {
   "cell_type": "code",
   "execution_count": 122,
   "metadata": {},
   "outputs": [],
   "source": [
    "def _kl_div_2d(p, q):\n",
    "    # D_KL(P || Q)\n",
    "    batch, chans, height, width = p.shape\n",
    "    unsummed_kl = F.kl_div(\n",
    "        q.view(batch * chans, height * width).log(),\n",
    "        p.view(batch * chans, height * width),\n",
    "        reduction='none',\n",
    "    )\n",
    "    kl_values = unsummed_kl.sum(-1).view(batch, chans)\n",
    "    return kl_values\n",
    "\n",
    "\n",
    "def _js_div_2d(p, q):\n",
    "    # JSD(P || Q)\n",
    "    m = 0.5 * (p + q)\n",
    "    return 0.5 * _kl_div_2d(p, m) + 0.5 * _kl_div_2d(q, m)\n",
    "\n",
    "# TODO: add this to the main module\n",
    "\n",
    "\n",
    "def _reduce_loss(losses, reduction):\n",
    "    if reduction == 'none':\n",
    "        return losses\n",
    "    else:\n",
    "        return torch.mean(losses) if reduction == 'mean' else torch.sum(losses)\n",
    "\n",
    "\n",
    "def js_div_loss_2d(\n",
    "        input: torch.Tensor,\n",
    "        target: torch.Tensor,\n",
    "        reduction: str = 'mean'\n",
    "):\n",
    "    r\"\"\"Calculates the Jensen-Shannon divergence loss between heatmaps.\n",
    "\n",
    "    Arguments:\n",
    "        input (torch.Tensor): the input tensor.\n",
    "        target (torch.Tensor): the target tensor.\n",
    "        reduction (string, optional): Specifies the reduction to apply to the\n",
    "          output: ``'none'`` | ``'mean'`` | ``'sum'``. ``'none'``: no reduction\n",
    "          will be applied, ``'mean'``: the sum of the output will be divided by\n",
    "          the number of elements in the output, ``'sum'``: the output will be\n",
    "          summed. Default: ``'mean'``.\n",
    "\n",
    "    Shape:\n",
    "        - Input: :math:`(B, N, H, W)`\n",
    "        - Target: :math:`(B, N, H, W)`, same shape as the input\n",
    "    \"\"\"\n",
    "    return _reduce_loss(_js_div_2d(target, input), reduction)"
   ]
  },
  {
   "cell_type": "code",
   "execution_count": 4,
   "metadata": {},
   "outputs": [],
   "source": [
    "def canBeCastToList(x):\n",
    "    try:\n",
    "        list(x)\n",
    "        return True\n",
    "    except Exception as e:\n",
    "        return False\n",
    "    \n",
    "def isIterableOfInts(x):\n",
    "    try:\n",
    "        x_new = [v for v in x if int(v) == v]\n",
    "        if len(x) == len(x_new) and len(x) > 0:\n",
    "            return True\n",
    "        return False\n",
    "    except Exception as e:\n",
    "        return False\n",
    "    \n",
    "def canBeCastToInt(x):\n",
    "    try:\n",
    "        if int(x)==x:\n",
    "            return True\n",
    "        else:\n",
    "            return False\n",
    "    except Exception as e:\n",
    "        return False\n",
    "    \n",
    "def canBeCastToFloat(x):\n",
    "    try:\n",
    "        float(x)\n",
    "        return True\n",
    "    except Exception as e:\n",
    "        return False"
   ]
  },
  {
   "cell_type": "code",
   "execution_count": 5,
   "metadata": {},
   "outputs": [],
   "source": [
    "def checkParams(model_params):\n",
    "    regulz_types = set(['None', 'BatchNorm', 'LayerNorm', 'SpLayerNorm', \n",
    "                        'WeightNorm', 'InstanceNorm', 'AdversNorm'])\n",
    "\n",
    "    # check filters\n",
    "    if canBeCastToList(model_params['filters']):\n",
    "        if not isIterableOfInts(model_params['filters']):\n",
    "            raise Exception('param \"filters\" must be LIST of INTEGERS')\n",
    "    else:\n",
    "        raise Exception('param \"filters\" must be ITERABLE')\n",
    "\n",
    "    # check regularization type\n",
    "    if not model_params['regulz_type'] in regulz_types:\n",
    "        raise Exception(f'supported normalization types: {regulz_types}')\n",
    "        \n",
    "    # check pool factor\n",
    "    if not canBeCastToInt(model_params['pool_factor']):\n",
    "        raise Exception(f'\"pool_factor\" must be INTEGER or lossless cast to it')\n",
    "        \n",
    "    # check class number\n",
    "    if not canBeCastToInt(model_params['classes_nb']):\n",
    "        raise Exception(f'\"classes_nb\" must be INTEGER or lossless cast to it')\n",
    "        \n",
    "    # check input shape\n",
    "    if canBeCastToList(model_params['input_shape']):\n",
    "        if not len(list(model_params['input_shape'])) == 3:\n",
    "            raise Exception('param \"input_shape\" LEN must be 3')\n",
    "        if not isIterableOfInts(model_params['filters']):\n",
    "            raise Exception('param \"input_shape\" must be LIST of INTEGERS')\n",
    "    else:\n",
    "        raise Exception('param \"input_shape\" must be ITERABLE')\n",
    "        \n",
    "    # check pool positions\n",
    "    if canBeCastToList(model_params['pool_positions']):\n",
    "        if not isIterableOfInts(model_params['pool_positions']):\n",
    "            raise Exception('param \"pool_positions\" must be LIST of INTEGERS')\n",
    "        if (model_params['pool_positions']) != sorted(model_params['pool_positions']):\n",
    "            raise Exception('\"pool_positions\" must be SORTED by ascending')\n",
    "    else:\n",
    "        raise Exception('param \"pool_positions\" must be ITERABLE')\n",
    "        \n",
    "    # chekc ReLU slope\n",
    "#     if not canBeCastToFloat(model_params['ReLU_slope']):\n",
    "#         raise Exception(f'\"ReLU_slope\" must be FLOAT or can be cast to it')\n",
    "#     if not model_params['ReLU_slope']>=0 and model_params['ReLU_slope']<1:\n",
    "#         raise Exception(f'\"ReLU_slope\" must be GREATER or EQUAL than 0 and LOWER than 1')\n",
    "        "
   ]
  },
  {
   "cell_type": "code",
   "execution_count": 360,
   "metadata": {},
   "outputs": [],
   "source": [
    "class AdversarialNorm2d(nn.Module):\n",
    "    def __init__(self, num_features, num_channels):\n",
    "        super().__init__()\n",
    "        self.bias = nn.Parameter(data=torch.zeros(num_channels))\n",
    "        self.scale = nn.Parameter(data=torch.ones(num_channels))\n",
    "        self.f_num = np.prod(num_features)\n",
    "        \n",
    "        self.clf = nn.Sequential()\n",
    "        self.clf.add_module('lin', nn.Linear(self.f_num, self.f_num))\n",
    "        self.clf.add_module('lin_actv', nn.ReLU())\n",
    "        self.clf.add_module('clf', nn.Linear(self.f_num, 1))\n",
    "        \n",
    "        \n",
    "    def forward(self, x):\n",
    "        x_fake = x.clone()\n",
    "        x_fake = x_fake.view(x.shape[0]*x.shape[1], -1)\n",
    "        x_real = torch.randn(x_fake.shape)*self.scale.repeat(x.shape[0]).unsqueeze(1) + self.bias.repeat(x.shape[0]).unsqueeze(1)\n",
    "        \n",
    "        real = torch.ones(x.shape[0]*x.shape[1]) * -1\n",
    "        fake = torch.ones(x.shape[0]*x.shape[1])\n",
    "        \n",
    "        y_true = torch.cat((real, fake))\n",
    "        x_all = torch.cat((x_real, x_fake))\n",
    "        y_pred = self.clf(x_all)\n",
    "        return x, y_true, y_pred"
   ]
  },
  {
   "cell_type": "code",
   "execution_count": 361,
   "metadata": {},
   "outputs": [],
   "source": [
    "m = AdversarialNorm2d((5,5), 16)"
   ]
  },
  {
   "cell_type": "code",
   "execution_count": 362,
   "metadata": {},
   "outputs": [],
   "source": [
    "a = torch.randn(32, 16, 5, 5)"
   ]
  },
  {
   "cell_type": "code",
   "execution_count": 363,
   "metadata": {},
   "outputs": [],
   "source": [
    "_, tr, pr = m(a)"
   ]
  },
  {
   "cell_type": "code",
   "execution_count": 364,
   "metadata": {},
   "outputs": [
    {
     "data": {
      "text/plain": [
       "tensor(-1.8281e-10, grad_fn=<MeanBackward0>)"
      ]
     },
     "execution_count": 364,
     "metadata": {},
     "output_type": "execute_result"
    }
   ],
   "source": [
    "(tr*pr).mean()"
   ]
  },
  {
   "cell_type": "code",
   "execution_count": 437,
   "metadata": {},
   "outputs": [
    {
     "data": {
      "text/plain": [
       "tensor([[ 0,  1,  2,  3],\n",
       "        [ 5,  6,  7,  8],\n",
       "        [10, 11, 12, 13],\n",
       "        [12, 13, 14, 15],\n",
       "        [17, 18, 19, 20],\n",
       "        [22, 23, 24, 25],\n",
       "        [24, 25, 26, 27],\n",
       "        [29, 30, 31, 32],\n",
       "        [34, 35, 36, 37],\n",
       "        [36, 37, 38, 39],\n",
       "        [41, 42, 43, 44],\n",
       "        [46, 47, 48, 49],\n",
       "        [48, 49, 50, 51],\n",
       "        [53, 54, 55, 56],\n",
       "        [58, 59, 60, 61]])"
      ]
     },
     "execution_count": 437,
     "metadata": {},
     "output_type": "execute_result"
    }
   ],
   "source": [
    "torch.arange(3).repeat(5).unsqueeze(1) + a"
   ]
  },
  {
   "cell_type": "code",
   "execution_count": 436,
   "metadata": {},
   "outputs": [
    {
     "data": {
      "text/plain": [
       "tensor([[ 0,  1,  2,  3],\n",
       "        [ 4,  5,  6,  7],\n",
       "        [ 8,  9, 10, 11],\n",
       "        [12, 13, 14, 15],\n",
       "        [16, 17, 18, 19],\n",
       "        [20, 21, 22, 23],\n",
       "        [24, 25, 26, 27],\n",
       "        [28, 29, 30, 31],\n",
       "        [32, 33, 34, 35],\n",
       "        [36, 37, 38, 39],\n",
       "        [40, 41, 42, 43],\n",
       "        [44, 45, 46, 47],\n",
       "        [48, 49, 50, 51],\n",
       "        [52, 53, 54, 55],\n",
       "        [56, 57, 58, 59]])"
      ]
     },
     "execution_count": 436,
     "metadata": {},
     "output_type": "execute_result"
    }
   ],
   "source": [
    "a = torch.arange(60).reshape(5,3,4)\n",
    "a = a.reshape(15,4)\n",
    "a"
   ]
  },
  {
   "cell_type": "code",
   "execution_count": null,
   "metadata": {},
   "outputs": [],
   "source": []
  },
  {
   "cell_type": "code",
   "execution_count": 411,
   "metadata": {},
   "outputs": [
    {
     "data": {
      "text/plain": [
       "Parameter containing:\n",
       "tensor([0.7261, 0.7261, 0.7261, 0.7261, 0.7261, 0.7261, 0.7261, 0.7261, 0.7261,\n",
       "        0.7261, 0.7261, 0.7261, 0.7261, 0.7261], requires_grad=True)"
      ]
     },
     "execution_count": 411,
     "metadata": {},
     "output_type": "execute_result"
    }
   ],
   "source": [
    "model.model.adv_norm4.scale"
   ]
  },
  {
   "cell_type": "code",
   "execution_count": 468,
   "metadata": {},
   "outputs": [],
   "source": [
    "class AdversarialNorm2dshift(nn.Module):\n",
    "    def __init__(self, num_features, num_channels):\n",
    "        super().__init__()\n",
    "        self.bias = nn.Parameter(data=torch.zeros(num_channels))\n",
    "        self.scale = nn.Parameter(data=torch.ones(num_channels))\n",
    "        self.f_num = np.prod(num_features)\n",
    "        \n",
    "        self.clf = nn.Sequential()\n",
    "        self.clf.add_module('lin', nn.Linear(self.f_num, self.f_num))\n",
    "        self.clf.add_module('lin_actv', nn.ReLU())\n",
    "        self.clf.add_module('clf', nn.Linear(self.f_num, 1))\n",
    "        \n",
    "        \n",
    "    def forward(self, x):\n",
    "        x_fake = x.clone()\n",
    "        x_fake = x_fake.view(x.shape[0]*x.shape[1], -1)*self.scale.repeat(x.shape[0]).unsqueeze(1) + self.bias.repeat(x.shape[0]).unsqueeze(1)\n",
    "        x_real = torch.randn(x_fake.shape).cuda()\n",
    "        \n",
    "        real = torch.ones(x.shape[0]*x.shape[1]).cuda() * -1\n",
    "        fake = torch.ones(x.shape[0]*x.shape[1]).cuda()\n",
    "        \n",
    "        y_true = torch.cat((real, fake))\n",
    "        x_all = torch.cat((x_real, x_fake))\n",
    "        y_pred = self.clf(x_all)\n",
    "        return x, y_true, y_pred\n",
    "\n",
    "\n",
    "class AdversarialNorm2d(nn.Module):\n",
    "    def __init__(self, num_features):\n",
    "        super().__init__()\n",
    "        self.f_num = np.prod(num_features)\n",
    "        \n",
    "        self.clf = nn.Sequential()\n",
    "        self.clf.add_module('lin', nn.Linear(self.f_num, self.f_num))\n",
    "        self.clf.add_module('lin_actv', nn.ReLU())\n",
    "        self.clf.add_module('clf', nn.Linear(self.f_num, 1))\n",
    "        \n",
    "        \n",
    "    def forward(self, x):\n",
    "        x_fake = x.clone()\n",
    "        x_fake = x_fake.view(x.shape[0]*x.shape[1], -1)\n",
    "        x_real = torch.randn(x_fake.shape).cuda()\n",
    "        \n",
    "        real = torch.ones(x.shape[0]*x.shape[1]).cuda() * -1\n",
    "        fake = torch.ones(x.shape[0]*x.shape[1]).cuda()\n",
    "        \n",
    "        y_true = torch.cat((real, fake))\n",
    "        x_all = torch.cat((x_real, x_fake))\n",
    "        y_pred = self.clf(x_all)\n",
    "        return x, y_true, y_pred\n",
    "        \n",
    "\n",
    "class Adversarial_VGGLike(nn.Module):\n",
    "    def __init__(self, model_params):\n",
    "        super().__init__()\n",
    "        self.elu_alpha = model_params['elu_alpha']\n",
    "        \n",
    "        self.conv1 = nn.Conv2d(3, model_params['filters'][0], kernel_size=(3,3), padding=(0,0), stride=(1,1))\n",
    "        self.conv2 = nn.Conv2d(model_params['filters'][0], model_params['filters'][1], kernel_size=(3,3), padding=(0,0), stride=(1,1))\n",
    "        self.conv3 = nn.Conv2d(model_params['filters'][1], model_params['filters'][2], kernel_size=(3,3), padding=(0,0), stride=(1,1))\n",
    "        self.conv4 = nn.Conv2d(model_params['filters'][2], model_params['filters'][3], kernel_size=(3,3), padding=(0,0), stride=(1,1))\n",
    "        self.conv5 = nn.Conv2d(model_params['filters'][3], model_params['filters'][4], kernel_size=(3,3), padding=(0,0), stride=(1,1))\n",
    "        self.conv6 = nn.Conv2d(model_params['filters'][4], model_params['filters'][5], kernel_size=(3,3), padding=(0,0), stride=(1,1))\n",
    "\n",
    "#         self.adv_norm1 = AdversarialNorm2d((30,30))\n",
    "#         self.adv_norm2 = AdversarialNorm2d((28,28))\n",
    "#         self.adv_norm3 = AdversarialNorm2d((12,12))\n",
    "#         self.adv_norm4 = AdversarialNorm2d((10,10))\n",
    "        \n",
    "        self.adv_norm1 = AdversarialNorm2dshift((30,30), model_params['filters'][0])\n",
    "        self.adv_norm2 = AdversarialNorm2dshift((28,28), model_params['filters'][1])\n",
    "        self.adv_norm3 = AdversarialNorm2dshift((12,12), model_params['filters'][2])\n",
    "        self.adv_norm4 = AdversarialNorm2dshift((10,10), model_params['filters'][3])\n",
    "        \n",
    "        \n",
    "        self.clf = nn.Sequential()\n",
    "        self.clf.add_module(\n",
    "            'lin', nn.Linear(model_params['filters'][-1], model_params['filters'][-1])\n",
    "            )\n",
    "        self.clf.add_module(\n",
    "            'lin_actv',\n",
    "            nn.ELU(model_params['elu_alpha'])\n",
    "            )\n",
    "        self.clf.add_module(\n",
    "            'clf', nn.Linear(model_params['filters'][-1], model_params['classes_nb'])\n",
    "            )\n",
    "    \n",
    "    \n",
    "    def forward(self, x):\n",
    "        x, tr1, pr1 = self.adv_norm1(self.conv1(x))\n",
    "        x = F.elu(x, alpha=self.elu_alpha)\n",
    "        \n",
    "        x, tr2, pr2 = self.adv_norm2(self.conv2(x))\n",
    "        x = F.elu(x, alpha=self.elu_alpha)\n",
    "        \n",
    "        x = F.max_pool2d(x, 2)\n",
    "        \n",
    "        x, tr3, pr3 = self.adv_norm3(self.conv3(x))\n",
    "        x = F.elu(x, alpha=self.elu_alpha)\n",
    "        \n",
    "        x, tr4, pr4 = self.adv_norm4(self.conv4(x))\n",
    "        x = F.elu(x, alpha=self.elu_alpha)\n",
    "        \n",
    "        x = F.max_pool2d(x, 2)\n",
    "        \n",
    "        x = self.conv5(x)\n",
    "        x = F.elu(x, alpha=self.elu_alpha)\n",
    "        \n",
    "        x = self.conv6(x)\n",
    "        x = F.elu(x, alpha=self.elu_alpha)\n",
    "        \n",
    "        x = x.view(x.shape[0], -1)        \n",
    "        x = self.clf(x)\n",
    "        return x, [tr1,tr2,tr3,tr4], [pr1,pr2,pr3,pr4]"
   ]
  },
  {
   "cell_type": "code",
   "execution_count": 469,
   "metadata": {},
   "outputs": [],
   "source": [
    "class WN_VGGLike(nn.Module):\n",
    "    def __init__(self, model_params):\n",
    "        super().__init__()\n",
    "\n",
    "        pool_idx = 0\n",
    "        block_idx = 0\n",
    "        self.conv = nn.Sequential()\n",
    "        prev_filt_size = model_params['input_shape'][0]\n",
    "        for filt_size in model_params['filters']:\n",
    "            self.conv.add_module(\n",
    "                f'conv_{block_idx}',\n",
    "                nn.utils.weight_norm(\n",
    "                    nn.Conv2d(\n",
    "                        prev_filt_size,\n",
    "                        filt_size,\n",
    "                        kernel_size=(3, 3),\n",
    "                        padding=(0, 0),\n",
    "                        stride=(1, 1)\n",
    "                        )\n",
    "                    )\n",
    "                )\n",
    "            self.conv.add_module(f'actv_{block_idx}', nn.ELU(model_params['elu_alpha']))\n",
    "            block_idx += 1\n",
    "            if pool_idx < len(model_params['pool_positions']):\n",
    "                if block_idx == model_params['pool_positions'][pool_idx]:\n",
    "                    self.conv.add_module(\n",
    "                        f'maxpool_{block_idx}',\n",
    "                        nn.MaxPool2d((model_params['pool_factor'], model_params['pool_factor']))\n",
    "                        )\n",
    "                    pool_idx += 1\n",
    "                    block_idx += 1\n",
    "            prev_filt_size = filt_size\n",
    "\n",
    "        self.clf = nn.Sequential()\n",
    "        self.clf.add_module(\n",
    "            'lin',\n",
    "            nn.utils.weight_norm(nn.Linear(model_params['filters'][-1], model_params['filters'][-1]))\n",
    "            )\n",
    "        self.clf.add_module(\n",
    "            'lin_actv',\n",
    "            nn.ELU(model_params['elu_alpha'])\n",
    "            )\n",
    "        self.clf.add_module(\n",
    "            'clf',\n",
    "            nn.utils.weight_norm(nn.Linear(model_params['filters'][-1], model_params['classes_nb']))\n",
    "            )\n",
    "\n",
    "    def forward(self, x):\n",
    "        x = self.conv(x)\n",
    "        x = x.view(x.shape[0], -1)\n",
    "        x = self.clf(x)\n",
    "        return x"
   ]
  },
  {
   "cell_type": "code",
   "execution_count": 470,
   "metadata": {},
   "outputs": [],
   "source": [
    "class InstanceBatchNorm2d(nn.Module):\n",
    "    def __init__(self, num_features):\n",
    "        super().__init__()\n",
    "        self.num_features = num_features\n",
    "        self.bn = nn.BatchNorm2d(num_features//2)\n",
    "        self.inst = nn.InstanceNorm2d(num_features//2)\n",
    "        \n",
    "    def forward(self, x):\n",
    "        x1 = self.bn(x[:,:self.num_features//2])\n",
    "        x2 = self.inst(x[:,self.num_features//2:])\n",
    "        return torch.cat((x1,x2), dim=1)\n",
    "\n",
    "class BN_LN_IN_VGGLike(nn.Module):\n",
    "    def __init__(self, model_params):\n",
    "        super().__init__()\n",
    "\n",
    "        pool_idx = 0\n",
    "        block_idx = 0\n",
    "        current_hw = 32\n",
    "        self.conv = nn.Sequential()\n",
    "        prev_filt_size = model_params['input_shape'][0]\n",
    "        for i,filt_size in enumerate(model_params['filters']):\n",
    "            self.conv.add_module(\n",
    "                f'conv_{block_idx}',\n",
    "                nn.Conv2d(\n",
    "                    prev_filt_size,\n",
    "                    filt_size,\n",
    "                    kernel_size=(3, 3),\n",
    "                    padding=(0, 0),\n",
    "                    stride=(1, 1)\n",
    "                    )\n",
    "                )\n",
    "            current_hw -= 2\n",
    "            if i < 4:\n",
    "                if model_params['regulz_type'] == 'BatchNorm':\n",
    "                    self.conv.add_module(f'bn_{block_idx}', nn.BatchNorm2d(filt_size))\n",
    "                if model_params['regulz_type'] == 'LayerNorm':\n",
    "                    self.conv.add_module(f'ln_{block_idx}', nn.LayerNorm((\n",
    "                        filt_size,\n",
    "                        current_hw,\n",
    "                        current_hw\n",
    "                        )))\n",
    "\n",
    "                if model_params['regulz_type'] == 'SpLayerNorm':\n",
    "                    self.conv.add_module(f'sln_{block_idx}', nn.LayerNorm((current_hw, current_hw)))\n",
    "                if model_params['regulz_type'] == 'InstanceNorm':\n",
    "                    self.conv.add_module(f'ibn_{block_idx}', nn.InstanceNorm2d(filt_size))\n",
    "                \n",
    "            self.conv.add_module(f'actv_{block_idx}', nn.ELU(model_params['elu_alpha']))\n",
    "    \n",
    "            block_idx += 1\n",
    "            if pool_idx < len(model_params['pool_positions']):\n",
    "                if block_idx == model_params['pool_positions'][pool_idx]:\n",
    "                    self.conv.add_module(\n",
    "                        f'maxpool_{block_idx}',\n",
    "                        nn.MaxPool2d((model_params['pool_factor'], model_params['pool_factor'])))\n",
    "                    pool_idx += 1\n",
    "                    block_idx += 1\n",
    "                    current_hw *= 1/2\n",
    "                    current_hw = int(current_hw)\n",
    "            prev_filt_size = filt_size\n",
    "            \n",
    "        self.head = nn.Sequential()\n",
    "        self.head.add_module(\n",
    "            'lin',\n",
    "            nn.Linear(model_params['filters'][-1], model_params['filters'][-1])\n",
    "            )\n",
    "        \n",
    "        self.head.add_module(\n",
    "            'lin_actv',\n",
    "            nn.ELU(model_params['elu_alpha'])\n",
    "            )\n",
    "    \n",
    "        self.head.add_module(\n",
    "            'clf',\n",
    "            nn.Linear(model_params['filters'][-1], model_params['classes_nb'])\n",
    "            )\n",
    "\n",
    "    def forward(self, x):\n",
    "        x = self.conv(x)\n",
    "        x = x.view(x.shape[0], -1)\n",
    "        x = self.head(x)\n",
    "        return x"
   ]
  },
  {
   "cell_type": "code",
   "execution_count": 490,
   "metadata": {},
   "outputs": [],
   "source": [
    "def conv2d_weight_init(x):\n",
    "    if isinstance(x, nn.Conv2d):\n",
    "        torch.nn.init.xavier_normal_(x.weight)\n",
    "        torch.nn.init.zeros_(x.bias)\n",
    "\n",
    "def linear_weight_init(x):\n",
    "    if isinstance(x, nn.Linear):\n",
    "        torch.nn.init.xavier_normal_(x.weight)\n",
    "        torch.nn.init.zeros_(x.bias)\n",
    "\n",
    "class VGGLike(pl.LightningModule):\n",
    "    def __init__(self, model_params, pid=None, queue=None):\n",
    "        super().__init__()\n",
    "        self.history = {\n",
    "            'train_loss': [],\n",
    "            'train': {'loss':[], 'acc':[]},\n",
    "            'val': {'loss':[], 'acc':[]}\n",
    "        }\n",
    "\n",
    "        self.seed = model_params['seed']\n",
    "#         self.queue = queue\n",
    "#         self.pid = pid\n",
    "        self.model_params = model_params\n",
    "        self.model = None\n",
    "        self.configure_model()\n",
    "        self.transform = transforms.Compose([\n",
    "            transforms.ToTensor()])\n",
    "\n",
    "        self.targets = []\n",
    "        self.predicts = []\n",
    "        self.confusion_matrix = torch.zeros(\n",
    "            self.model_params['classes_nb'],\n",
    "            self.model_params['classes_nb'], dtype=int\n",
    "            )\n",
    "        self.confusion_matrix_norm = torch.zeros(\n",
    "            self.model_params['classes_nb'],\n",
    "            self.model_params['classes_nb'], dtype=int\n",
    "            )\n",
    "        self.logpath = model_params['logpath']\n",
    "        self.vis_dir = 'conf_matrix'\n",
    "        self.ckpt_every_dir = 'every'\n",
    "\n",
    "        os.makedirs(self.logpath+'/'+self.vis_dir, exist_ok=True)\n",
    "        os.makedirs(self.logpath+'/checkpoints/'+self.ckpt_every_dir, exist_ok=True)\n",
    "\n",
    "    def setSeeds(self):\n",
    "        torch.backends.cudnn.deterministic = True\n",
    "        torch.backends.cudnn.benchmark = False\n",
    "        torch.manual_seed(self.seed)\n",
    "        torch.cuda.manual_seed_all((self.seed+1)*2)\n",
    "        np.random.seed((self.seed+2)*3)\n",
    "        random.seed((self.seed+3)*4)\n",
    "\n",
    "    def configure_model(self):\n",
    "        if self.model_params['regulz_type'] in (\n",
    "                'BatchNorm',\n",
    "                'LayerNorm',\n",
    "                'SpLayerNorm',\n",
    "                'InstanceNorm',\n",
    "                'None'\n",
    "            ):\n",
    "            self.model = BN_LN_IN_VGGLike(self.model_params)\n",
    "        if self.model_params['regulz_type'] == 'WeightNorm':\n",
    "            self.model = WN_VGGLike(self.model_params)\n",
    "        if self.model_params['regulz_type'] == 'AdversarialNorm':\n",
    "            self.model = Adversarial_VGGLike(self.model_params)\n",
    "\n",
    "        self.setSeeds()\n",
    "        self.model.apply(conv2d_weight_init)\n",
    "        self.model.apply(linear_weight_init)\n",
    "\n",
    "    def forward(self, x):\n",
    "        return self.model(x)\n",
    "\n",
    "    @pl.data_loader\n",
    "    def train_dataloader(self):\n",
    "        train_data = torchvision.datasets.CIFAR10(\n",
    "            './data',\n",
    "            train=True,\n",
    "            transform=self.transform, \n",
    "            download=False\n",
    "            )\n",
    "        data_loader = DataLoader(\n",
    "            train_data,\n",
    "            batch_size=self.model_params['batch_size'],\n",
    "            shuffle=True,\n",
    "            num_workers=4\n",
    "            )\n",
    "        if self.seed:\n",
    "            self.setSeeds()\n",
    "        return data_loader\n",
    "\n",
    "    @pl.data_loader\n",
    "    def val_dataloader(self):\n",
    "        val_data = torchvision.datasets.CIFAR10(\n",
    "            './data',\n",
    "            train=False,\n",
    "            transform=self.transform,\n",
    "            download=False\n",
    "            )\n",
    "        data_loader = DataLoader(\n",
    "            val_data,\n",
    "            batch_size=self.model_params['batch_size'],\n",
    "            num_workers=4\n",
    "            )\n",
    "        return data_loader\n",
    "\n",
    "    def calc_loss(self, logits, target):\n",
    "        loss = F.cross_entropy(logits, target)\n",
    "        return loss\n",
    "    \n",
    "    def calc_advloss(self, logits, target, adv_tr, adv_pr):\n",
    "        main_loss = F.cross_entropy(logits, target)\n",
    "        adv_loss = torch.zeros(1).cuda()\n",
    "        for tr, pr in zip(adv_tr, adv_pr):\n",
    "            adv_loss += (tr*torch.tanh(pr)).mean()\n",
    "        return main_loss + self.model_params['lambd']*adv_loss\n",
    "\n",
    "    def configure_optimizers(self):\n",
    "        return optim.Adam(\n",
    "            self.parameters(),\n",
    "            lr=5e-4,\n",
    "            weight_decay=self.model_params['weight_decay']\n",
    "        )\n",
    "\n",
    "    def calc_confusion_matrix(self):\n",
    "        targets = torch.cat(self.targets)\n",
    "        preds = torch.cat(self.predicts)\n",
    "        self.confusion_matrix = confusion_matrix(preds, targets).detach().cpu()\n",
    "\n",
    "    def visualize_confustion_matrix(self, normalize=True):\n",
    "        if normalize:\n",
    "            self.confusion_matrix_norm = self.confusion_matrix/self.confusion_matrix.sum(dim=1)\n",
    "        fig, ax = plt.subplots(figsize=(8, 6), dpi=200)\n",
    "        sns.heatmap(\n",
    "            self.confusion_matrix_norm,\n",
    "            ax=ax, cmap='Blues',\n",
    "            vmin=0,\n",
    "            vmax=1,\n",
    "            annot=self.confusion_matrix.int(),\n",
    "            fmt='d'\n",
    "            )\n",
    "        ax.set_xlabel('PREDICTED', fontsize=14)\n",
    "        ax.set_ylabel('GROUND TRUTH', fontsize=14)\n",
    "        ax.set_title(f'Epoch_{self.trainer.current_epoch}', fontsize=14)\n",
    "        ax.set_xticklabels(self.model_params['classes'], rotation=65, fontsize=12)\n",
    "        ax.set_yticklabels(self.model_params['classes'], rotation=0, fontsize=12)\n",
    "        fig.savefig(\n",
    "            self.logpath+'/'+self.vis_dir+f'/epoch_{self.trainer.current_epoch}.png',\n",
    "            bbox_inches=\"tight\"\n",
    "            )\n",
    "        plt.close('all')\n",
    "\n",
    "    def save_model(self):\n",
    "        path = self.trainer.logger.log_dir.split(os.path.sep)\n",
    "        path.append('checkpoints')\n",
    "        path.append(self.ckpt_every_dir)\n",
    "        path = os.path.sep.join(path)\n",
    "        self.trainer.save_checkpoint(path + f'/epoch={self.trainer.current_epoch}.ckpt')\n",
    "\n",
    "    def training_step(self, batch, batch_idx):\n",
    "        image, target = batch\n",
    "        if model_params['regulz_type'] == 'AdversarialNorm':\n",
    "            logits, tr, pr = self.model(image)\n",
    "            loss = self.calc_advloss(logits, target, tr, pr)\n",
    "        else:\n",
    "            logits = self.model(image)\n",
    "            loss = self.calc_loss(logits, target)\n",
    "        metrics = {\n",
    "            'acc': (logits.max(dim=1)[1] == target).sum().float()/len(target)\n",
    "        }\n",
    "        outputs = {\n",
    "            'loss': loss,\n",
    "            'metrics': metrics\n",
    "        }\n",
    "        self.history['train_loss'].append(loss.item())\n",
    "        return outputs\n",
    "\n",
    "    def training_epoch_end(self, outputs):\n",
    "        loss = torch.stack([x['loss'] for x in outputs])\n",
    "        avg_loss = loss.mean()\n",
    "        self.history['train']['loss'].append(avg_loss.item())\n",
    "\n",
    "        for metric in outputs[0]['metrics'].keys():\n",
    "            metric_values = torch.stack([x['metrics'][metric] for x in outputs])\n",
    "            avg_metric = metric_values.mean()\n",
    "            self.history['train'][metric].append(avg_metric.item())\n",
    "        return {\n",
    "            'train_loss': avg_loss\n",
    "        }\n",
    "\n",
    "    def validation_step(self, batch, batch_idx):\n",
    "        image, target = batch\n",
    "        if model_params['regulz_type'] == 'AdversarialNorm':\n",
    "            logits, tr, pr = self.model(image)\n",
    "            loss = self.calc_advloss(logits, target, tr, pr)\n",
    "        else:\n",
    "            logits = self.model(image)\n",
    "            loss = self.calc_loss(logits, target)\n",
    "        class_preds = logits.max(dim=1)[1]\n",
    "\n",
    "        self.predicts.append(class_preds)\n",
    "        self.targets.append(target)\n",
    "\n",
    "        metrics = {\n",
    "            'acc': (class_preds == target).sum().float()/len(target)\n",
    "        }\n",
    "        outputs = {\n",
    "            'loss': loss,\n",
    "            'metrics': metrics\n",
    "        }\n",
    "        return outputs\n",
    "\n",
    "    def validation_epoch_end(self, outputs):\n",
    "        loss = torch.stack([x['loss'] for x in outputs])\n",
    "        avg_loss = loss.mean()\n",
    "        self.history['val']['loss'].append(avg_loss.item())\n",
    "\n",
    "#         self.save_model()\n",
    "#         self.calc_confusion_matrix()\n",
    "#         self.visualize_confustion_matrix(normalize=True)\n",
    "        self.targets = []\n",
    "        self.predicts = []\n",
    "\n",
    "        \n",
    "#         self.queue.put([self.pid, self.trainer.current_epoch])\n",
    "        if self.trainer.current_epoch%50 == 0:\n",
    "            print(self.trainer.current_epoch)\n",
    "\n",
    "        for metric in outputs[0]['metrics'].keys():\n",
    "            metric_values = torch.stack([x['metrics'][metric] for x in outputs])\n",
    "            avg_metric = metric_values.mean()\n",
    "            self.history['val'][metric].append(avg_metric.item())\n",
    "        return {\n",
    "            'val_loss': avg_loss,\n",
    "            'val_acc': torch.FloatTensor([self.history['val']['acc'][-1]])\n",
    "        }\n"
   ]
  },
  {
   "cell_type": "code",
   "execution_count": 491,
   "metadata": {},
   "outputs": [
    {
     "name": "stdout",
     "output_type": "stream",
     "text": [
      "[4, 6, 10, 14, 22, 30]\n"
     ]
    }
   ],
   "source": [
    "def generate_filters(conv_layers_nb, filters_base, begin_factor=2):\n",
    "    filters = [begin_factor*filters_base]\n",
    "    interv = 2\n",
    "    difference = 1\n",
    "    factor = begin_factor\n",
    "    for i in range(conv_layers_nb-1):\n",
    "        if (i+1)%interv == 0 and i != 0:\n",
    "            difference *= 2\n",
    "        factor += difference\n",
    "        filters.append(factor*filters_base)\n",
    "    return filters\n",
    "\n",
    "def generate_logname(model_params):\n",
    "    logname = ''\n",
    "    logname += 'fnb_' + str(len(model_params['filters'])) + '--'\n",
    "    logname += 'fbase_' + str(int(model_params['filters'][0]/2)) + '--'\n",
    "    logname += 'wdecay_' + str(model_params['weight_decay']) + '--'\n",
    "    logname += 'elu_' + str(model_params['elu_alpha']) + '--'\n",
    "    if model_params['regulz_type'] == 'WeightNorm':\n",
    "        rname = 'WN_'\n",
    "    if model_params['regulz_type'] == 'BatchNorm':\n",
    "        rname = 'BN_' + str(model_params['batch_size'])\n",
    "    if model_params['regulz_type'] == 'InstanceNorm':\n",
    "        rname = 'IBN_'\n",
    "    if model_params['regulz_type'] == 'LayerNorm':\n",
    "        rname = 'LN_'\n",
    "    if model_params['regulz_type'] == 'SpLayerNorm':\n",
    "        rname = 'SLN_'\n",
    "    if model_params['regulz_type'] == 'AdversarialNorm':\n",
    "        rname = 'AN_'\n",
    "    if model_params['regulz_type'] == 'None':\n",
    "        rname = 'NONE_'\n",
    "    logname += rname\n",
    "    return logname\n",
    "        \n",
    "print(generate_filters(conv_layers_nb=6, filters_base=2, begin_factor=2))"
   ]
  },
  {
   "cell_type": "code",
   "execution_count": 504,
   "metadata": {},
   "outputs": [
    {
     "name": "stderr",
     "output_type": "stream",
     "text": [
      "GPU available: True, used: True\n",
      "TPU available: False, using: 0 TPU cores\n",
      "CUDA_VISIBLE_DEVICES: [0]\n"
     ]
    },
    {
     "data": {
      "application/vnd.jupyter.widget-view+json": {
       "model_id": "b3745261113644c982f7aebfa2534634",
       "version_major": 2,
       "version_minor": 0
      },
      "text/plain": [
       "HBox(children=(FloatProgress(value=1.0, bar_style='info', description='Training', layout=Layout(flex='2'), max…"
      ]
     },
     "metadata": {},
     "output_type": "display_data"
    },
    {
     "data": {
      "application/vnd.jupyter.widget-view+json": {
       "model_id": "",
       "version_major": 2,
       "version_minor": 0
      },
      "text/plain": [
       "HBox(children=(FloatProgress(value=1.0, bar_style='info', description='Validating', layout=Layout(flex='2'), m…"
      ]
     },
     "metadata": {},
     "output_type": "display_data"
    },
    {
     "name": "stdout",
     "output_type": "stream",
     "text": [
      "0\n"
     ]
    },
    {
     "data": {
      "application/vnd.jupyter.widget-view+json": {
       "model_id": "",
       "version_major": 2,
       "version_minor": 0
      },
      "text/plain": [
       "HBox(children=(FloatProgress(value=1.0, bar_style='info', description='Validating', layout=Layout(flex='2'), m…"
      ]
     },
     "metadata": {},
     "output_type": "display_data"
    },
    {
     "data": {
      "application/vnd.jupyter.widget-view+json": {
       "model_id": "",
       "version_major": 2,
       "version_minor": 0
      },
      "text/plain": [
       "HBox(children=(FloatProgress(value=1.0, bar_style='info', description='Validating', layout=Layout(flex='2'), m…"
      ]
     },
     "metadata": {},
     "output_type": "display_data"
    },
    {
     "data": {
      "application/vnd.jupyter.widget-view+json": {
       "model_id": "",
       "version_major": 2,
       "version_minor": 0
      },
      "text/plain": [
       "HBox(children=(FloatProgress(value=1.0, bar_style='info', description='Validating', layout=Layout(flex='2'), m…"
      ]
     },
     "metadata": {},
     "output_type": "display_data"
    },
    {
     "data": {
      "application/vnd.jupyter.widget-view+json": {
       "model_id": "",
       "version_major": 2,
       "version_minor": 0
      },
      "text/plain": [
       "HBox(children=(FloatProgress(value=1.0, bar_style='info', description='Validating', layout=Layout(flex='2'), m…"
      ]
     },
     "metadata": {},
     "output_type": "display_data"
    },
    {
     "data": {
      "application/vnd.jupyter.widget-view+json": {
       "model_id": "",
       "version_major": 2,
       "version_minor": 0
      },
      "text/plain": [
       "HBox(children=(FloatProgress(value=1.0, bar_style='info', description='Validating', layout=Layout(flex='2'), m…"
      ]
     },
     "metadata": {},
     "output_type": "display_data"
    },
    {
     "data": {
      "application/vnd.jupyter.widget-view+json": {
       "model_id": "",
       "version_major": 2,
       "version_minor": 0
      },
      "text/plain": [
       "HBox(children=(FloatProgress(value=1.0, bar_style='info', description='Validating', layout=Layout(flex='2'), m…"
      ]
     },
     "metadata": {},
     "output_type": "display_data"
    },
    {
     "data": {
      "application/vnd.jupyter.widget-view+json": {
       "model_id": "",
       "version_major": 2,
       "version_minor": 0
      },
      "text/plain": [
       "HBox(children=(FloatProgress(value=1.0, bar_style='info', description='Validating', layout=Layout(flex='2'), m…"
      ]
     },
     "metadata": {},
     "output_type": "display_data"
    },
    {
     "data": {
      "application/vnd.jupyter.widget-view+json": {
       "model_id": "",
       "version_major": 2,
       "version_minor": 0
      },
      "text/plain": [
       "HBox(children=(FloatProgress(value=1.0, bar_style='info', description='Validating', layout=Layout(flex='2'), m…"
      ]
     },
     "metadata": {},
     "output_type": "display_data"
    },
    {
     "data": {
      "application/vnd.jupyter.widget-view+json": {
       "model_id": "",
       "version_major": 2,
       "version_minor": 0
      },
      "text/plain": [
       "HBox(children=(FloatProgress(value=1.0, bar_style='info', description='Validating', layout=Layout(flex='2'), m…"
      ]
     },
     "metadata": {},
     "output_type": "display_data"
    },
    {
     "name": "stdout",
     "output_type": "stream",
     "text": [
      "\n"
     ]
    },
    {
     "data": {
      "text/plain": [
       "1"
      ]
     },
     "execution_count": 504,
     "metadata": {},
     "output_type": "execute_result"
    }
   ],
   "source": [
    "# %%time\n",
    "\n",
    "classes =[\n",
    "     'airplane',\n",
    "     'automobile',\n",
    "     'bird',\n",
    "     'cat',\n",
    "     'deer',\n",
    "     'dog',\n",
    "     'frog',\n",
    "     'horse',\n",
    "     'ship',\n",
    "     'truck'\n",
    "]\n",
    "\n",
    "# model params\n",
    "model_params = {\n",
    "    'filters': [4, 6, 10, 14, 22, 30],\n",
    "    'pool_positions': [2, 5], # indexing start from 0\n",
    "    'regulz_type': 'AdversarialNorm',\n",
    "    'pool_factor': 2,\n",
    "    'classes': classes,\n",
    "    'classes_nb': 10,\n",
    "    'input_shape': [3, 32, 32], # [C, H, W],\n",
    "    'elu_alpha': 0.1,\n",
    "    'lambd': 1,\n",
    "    'weight_decay': 0,\n",
    "    'seed': 42,\n",
    "    'batch_size': 256\n",
    "}\n",
    "\n",
    "# recreate log directory\n",
    "logname = generate_logname(model_params)\n",
    "logpath = './'+LOGDIR+'/'+logname\n",
    "if os.path.exists(logpath):\n",
    "    shutil.rmtree(logpath)\n",
    "os.makedirs(logpath, exist_ok=True)\n",
    "model_params['logpath'] = logpath\n",
    "\n",
    "# model initialize\n",
    "model = VGGLike(model_params)\n",
    "\n",
    "os.makedirs(logpath+'/checkpoints/best/', exist_ok=True)\n",
    "checkpoint_callback = ModelCheckpoint(\n",
    "    filepath=logpath+'/checkpoints/best/',\n",
    "    save_top_k=1,\n",
    "    verbose=False,\n",
    "    monitor='val_acc',\n",
    "    mode='max',\n",
    "    prefix=''\n",
    ")\n",
    "\n",
    "# model training\n",
    "tb_logger = pl_loggers.TensorBoardLogger(LOGDIR, name=logname, version='')\n",
    "trainer = Trainer(logger=tb_logger, gpus=1, max_epochs=10,\n",
    "                  checkpoint_callback=checkpoint_callback,\n",
    "                  num_sanity_val_steps=0,\n",
    "                  weights_summary=None,\n",
    "                  progress_bar_refresh_rate=5\n",
    "                 )\n",
    "trainer.fit(model)\n",
    "\n",
    "# save history\n",
    "# pd.DataFrame(model.history['train_loss'], columns=['train_loss']).to_csv(logpath+'/train_loss.csv', index=False)\n",
    "# pd.DataFrame(model.history['train']).to_csv(logpath+'/train.csv', index=False)\n",
    "# pd.DataFrame(model.history['val']).to_csv(logpath+'/val.csv', index=False)"
   ]
  },
  {
   "cell_type": "code",
   "execution_count": 677,
   "metadata": {},
   "outputs": [],
   "source": [
    "train_data = torchvision.datasets.CIFAR10(\n",
    "            './data',\n",
    "            train=False, \n",
    "            download=False\n",
    "            )"
   ]
  },
  {
   "cell_type": "code",
   "execution_count": 678,
   "metadata": {},
   "outputs": [],
   "source": [
    "t = transforms.Compose([\n",
    "    transforms.ToTensor()])"
   ]
  },
  {
   "cell_type": "code",
   "execution_count": 684,
   "metadata": {},
   "outputs": [
    {
     "data": {
      "text/plain": [
       "<matplotlib.axes._subplots.AxesSubplot at 0x299e614b6c8>"
      ]
     },
     "execution_count": 684,
     "metadata": {},
     "output_type": "execute_result"
    },
    {
     "data": {
      "image/png": "[encoded data removed]",
      "text/plain": [
       "<Figure size 432x288 with 1 Axes>"
      ]
     },
     "metadata": {
      "needs_background": "light"
     },
     "output_type": "display_data"
    }
   ],
   "source": [
    "a = t(train_data.data[5])\n",
    "sns.distplot(model.model.conv2(model.model.conv1(a.unsqueeze(0)))[0,0].flatten().detach().cpu())"
   ]
  },
  {
   "cell_type": "code",
   "execution_count": null,
   "metadata": {},
   "outputs": [],
   "source": []
  },
  {
   "cell_type": "code",
   "execution_count": null,
   "metadata": {},
   "outputs": [],
   "source": []
  },
  {
   "cell_type": "code",
   "execution_count": null,
   "metadata": {},
   "outputs": [],
   "source": []
  },
  {
   "cell_type": "code",
   "execution_count": 505,
   "metadata": {},
   "outputs": [
    {
     "data": {
      "text/plain": [
       "Parameter containing:\n",
       "tensor([1., 1., 1., 1.], requires_grad=True)"
      ]
     },
     "execution_count": 505,
     "metadata": {},
     "output_type": "execute_result"
    }
   ],
   "source": [
    "model.model.adv_norm1.scale"
   ]
  },
  {
   "cell_type": "code",
   "execution_count": 506,
   "metadata": {},
   "outputs": [
    {
     "data": {
      "text/plain": [
       "[<matplotlib.lines.Line2D at 0x299c6b08b48>]"
      ]
     },
     "execution_count": 506,
     "metadata": {},
     "output_type": "execute_result"
    },
    {
     "data": {
      "image/png": "[encoded data removed]",
      "text/plain": [
       "<Figure size 432x288 with 1 Axes>"
      ]
     },
     "metadata": {
      "needs_background": "light"
     },
     "output_type": "display_data"
    },
    {
     "data": {
      "image/png": "[encoded data removed]",
      "text/plain": [
       "<Figure size 432x288 with 1 Axes>"
      ]
     },
     "metadata": {
      "needs_background": "light"
     },
     "output_type": "display_data"
    },
    {
     "data": {
      "image/png": "[encoded data removed]",
      "text/plain": [
       "<Figure size 432x288 with 1 Axes>"
      ]
     },
     "metadata": {
      "needs_background": "light"
     },
     "output_type": "display_data"
    }
   ],
   "source": [
    "plt.plot(model.history['train_loss'])\n",
    "plt.figure()\n",
    "plt.plot(model.history['val']['loss'])\n",
    "plt.figure()\n",
    "plt.plot(model.history['val']['acc'])"
   ]
  },
  {
   "cell_type": "code",
   "execution_count": 500,
   "metadata": {},
   "outputs": [
    {
     "data": {
      "text/plain": [
       "[<matplotlib.lines.Line2D at 0x299c590b908>]"
      ]
     },
     "execution_count": 500,
     "metadata": {},
     "output_type": "execute_result"
    },
    {
     "data": {
      "image/png": "[encoded data removed]",
      "text/plain": [
       "<Figure size 432x288 with 1 Axes>"
      ]
     },
     "metadata": {
      "needs_background": "light"
     },
     "output_type": "display_data"
    },
    {
     "data": {
      "image/png": "[encoded data removed]",
      "text/plain": [
       "<Figure size 432x288 with 1 Axes>"
      ]
     },
     "metadata": {
      "needs_background": "light"
     },
     "output_type": "display_data"
    },
    {
     "data": {
      "image/png": "[encoded data removed]",
      "text/plain": [
       "<Figure size 432x288 with 1 Axes>"
      ]
     },
     "metadata": {
      "needs_background": "light"
     },
     "output_type": "display_data"
    }
   ],
   "source": [
    "plt.plot(model.history['train_loss'])\n",
    "plt.figure()\n",
    "plt.plot(model.history['val']['loss'])\n",
    "plt.figure()\n",
    "plt.plot(model.history['val']['acc'])"
   ]
  },
  {
   "cell_type": "code",
   "execution_count": 489,
   "metadata": {},
   "outputs": [
    {
     "data": {
      "text/plain": [
       "[<matplotlib.lines.Line2D at 0x299b25bec08>]"
      ]
     },
     "execution_count": 489,
     "metadata": {},
     "output_type": "execute_result"
    },
    {
     "data": {
      "image/png": "[encoded data removed]",
      "text/plain": [
       "<Figure size 432x288 with 1 Axes>"
      ]
     },
     "metadata": {
      "needs_background": "light"
     },
     "output_type": "display_data"
    },
    {
     "data": {
      "image/png": "[encoded data removed]",
      "text/plain": [
       "<Figure size 432x288 with 1 Axes>"
      ]
     },
     "metadata": {
      "needs_background": "light"
     },
     "output_type": "display_data"
    },
    {
     "data": {
      "image/png": "[encoded data removed]",
      "text/plain": [
       "<Figure size 432x288 with 1 Axes>"
      ]
     },
     "metadata": {
      "needs_background": "light"
     },
     "output_type": "display_data"
    }
   ],
   "source": [
    "plt.plot(model.history['train_loss'])\n",
    "plt.figure()\n",
    "plt.plot(model.history['val']['loss'])\n",
    "plt.figure()\n",
    "plt.plot(model.history['val']['acc'])"
   ]
  },
  {
   "cell_type": "code",
   "execution_count": null,
   "metadata": {},
   "outputs": [],
   "source": []
  },
  {
   "cell_type": "code",
   "execution_count": null,
   "metadata": {},
   "outputs": [],
   "source": []
  },
  {
   "cell_type": "code",
   "execution_count": null,
   "metadata": {},
   "outputs": [],
   "source": []
  },
  {
   "cell_type": "code",
   "execution_count": null,
   "metadata": {},
   "outputs": [],
   "source": []
  },
  {
   "cell_type": "code",
   "execution_count": 44,
   "metadata": {},
   "outputs": [],
   "source": [
    "val_data = torchvision.datasets.CIFAR10('./data', train=False)"
   ]
  },
  {
   "cell_type": "code",
   "execution_count": 46,
   "metadata": {},
   "outputs": [
    {
     "data": {
      "text/plain": [
       "[Text(0, 0.5, 'airplane'),\n",
       " Text(0, 1.5, 'automobile'),\n",
       " Text(0, 2.5, 'bird'),\n",
       " Text(0, 3.5, 'cat'),\n",
       " Text(0, 4.5, 'deer'),\n",
       " Text(0, 5.5, 'dog'),\n",
       " Text(0, 6.5, 'frog'),\n",
       " Text(0, 7.5, 'horse'),\n",
       " Text(0, 8.5, 'ship'),\n",
       " Text(0, 9.5, 'truck')]"
      ]
     },
     "execution_count": 46,
     "metadata": {},
     "output_type": "execute_result"
    },
    {
     "data": {
      "image/png": "[encoded data removed]",
      "text/plain": [
       "<Figure size 800x600 with 2 Axes>"
      ]
     },
     "metadata": {
      "needs_background": "light"
     },
     "output_type": "display_data"
    }
   ],
   "source": [
    "cnf = torch.rand(10,10)\n",
    "cnf /= cnf.max()\n",
    "fig, ax = plt.subplots(figsize=(8,6), dpi=100)\n",
    "sns.heatmap(cnf, ax=ax, cmap='Blues', vmin=0, vmax=1, annot = cnf)\n",
    "ax.set_ylabel('PREDICTED', fontsize=14)\n",
    "ax.set_xlabel('GROUND TRUTH', fontsize=14)\n",
    "ax.set_title(f'Epoch', fontsize=14)\n",
    "ax.set_xticklabels(val_data.classes, rotation=65, fontsize=12)\n",
    "ax.set_yticklabels(val_data.classes, rotation=0, fontsize=12)\n",
    "# ax.set_xticks(val_data.classes, rotation=90)"
   ]
  },
  {
   "cell_type": "code",
   "execution_count": null,
   "metadata": {},
   "outputs": [],
   "source": []
  },
  {
   "cell_type": "code",
   "execution_count": 69,
   "metadata": {},
   "outputs": [],
   "source": [
    "for i in range(200):\n",
    "    cnf = torch.rand(10,10)\n",
    "    cnf /= cnf.max()\n",
    "    fig, ax = plt.subplots(figsize=(8,6), dpi=200)\n",
    "    sns.heatmap(cnf, ax=ax, cmap='Blues', vmin=0, vmax=1)\n",
    "    ax.set_ylabel('PREDICTED', fontsize=14)\n",
    "    ax.set_xlabel('GROUND TRUTH', fontsize=14)\n",
    "    ax.set_title(f'Epoch', fontsize=14)\n",
    "    ax.set_xticklabels(val_data.classes, rotation=65, fontsize=12)\n",
    "    ax.set_yticklabels(val_data.classes, rotation=0, fontsize=12)\n",
    "    fig.savefig(f'temp/asd_{i}.png', bbox_inches=\"tight\")\n",
    "    plt.close('all')"
   ]
  },
  {
   "cell_type": "code",
   "execution_count": 70,
   "metadata": {},
   "outputs": [],
   "source": [
    "import glob\n",
    "from PIL import Image"
   ]
  },
  {
   "cell_type": "code",
   "execution_count": 71,
   "metadata": {},
   "outputs": [],
   "source": [
    "frames = []\n",
    "imgs = glob.glob(\"./temp/*.png\")\n",
    "imgs.sort(key=os.path.getmtime)\n",
    "for i in imgs:\n",
    "    new_frame = Image.open(i)\n",
    "    frames.append(new_frame.resize(np.array(new_frame.size)//3))\n",
    " \n",
    "# Save into a GIF file that loops forever\n",
    "frames[0].save('png_to_gif.gif', format='GIF',\n",
    "               append_images=frames[1:],\n",
    "               save_all=True,\n",
    "               duration=200, loop=0)"
   ]
  },
  {
   "cell_type": "code",
   "execution_count": 41,
   "metadata": {},
   "outputs": [],
   "source": []
  },
  {
   "cell_type": "code",
   "execution_count": null,
   "metadata": {},
   "outputs": [],
   "source": []
  },
  {
   "cell_type": "code",
   "execution_count": null,
   "metadata": {},
   "outputs": [],
   "source": []
  },
  {
   "cell_type": "code",
   "execution_count": null,
   "metadata": {},
   "outputs": [],
   "source": []
  },
  {
   "cell_type": "code",
   "execution_count": null,
   "metadata": {},
   "outputs": [],
   "source": []
  }
 ],
 "metadata": {
  "kernelspec": {
   "display_name": "Python 3",
   "language": "python",
   "name": "python3"
  },
  "language_info": {
   "codemirror_mode": {
    "name": "ipython",
    "version": 3
   },
   "file_extension": ".py",
   "mimetype": "text/x-python",
   "name": "python",
   "nbconvert_exporter": "python",
   "pygments_lexer": "ipython3",
   "version": "3.7.7"
  }
 },
 "nbformat": 4,
 "nbformat_minor": 4
}
